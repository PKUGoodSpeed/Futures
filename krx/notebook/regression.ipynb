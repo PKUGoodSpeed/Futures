{
 "cells": [
  {
   "cell_type": "code",
   "execution_count": 53,
   "metadata": {},
   "outputs": [],
   "source": [
    "# Basic\n",
    "import numpy as np\n",
    "import pandas as pd\n",
    "\n",
    "# Load market data\n",
    "import gsampler as gs\n",
    "\n",
    "# Visualization\n",
    "from IPython.display import display\n",
    "%matplotlib inline\n",
    "import matplotlib.pyplot as plt"
   ]
  },
  {
   "cell_type": "markdown",
   "metadata": {},
   "source": [
    "##### Load market data"
   ]
  },
  {
   "cell_type": "code",
   "execution_count": 54,
   "metadata": {
    "collapsed": true
   },
   "outputs": [],
   "source": [
    "def get_dataframe(symbol, colo, date):\n",
    "    '''\n",
    "    Obtaining a dataframe directly from gsampler:\n",
    "    The dataframe contains:\n",
    "        ask_book_price, ask_book_size from level 1 to level 5\n",
    "        bid_book_price, bid_book_size from level 1 to level 5\n",
    "        trade_price\n",
    "        trade_volume\n",
    "        trade_side\n",
    "    '''\n",
    "    dates = [date]\n",
    "    features = []\n",
    "    for i in range(5):\n",
    "        features.append(gs.FeatureAskPrice(symbol = symbol, level = i))\n",
    "        features.append(gs.FeatureAskQty(symbol = symbol, level = i))\n",
    "    for i in range(5):\n",
    "        features.append(gs.FeatureBidPrice(symbol = symbol, level = i))\n",
    "        features.append(gs.FeatureBidQty(symbol = symbol, level = i))\n",
    "    features.append(gs.FeatureTradePrice(symbol = symbol))\n",
    "    features.append(gs.FeatureTradeSize(symbol = symbol))\n",
    "    features.append(gs.FeatureTradeSide(symbol = symbol))\n",
    "    features.append(gs.FeatureTickerIdCast())\n",
    "    sampler = gs.SamplerRunner(features = features, dates = dates, colo = colo, cb_version = 'v2')\n",
    "    sampler.run()\n",
    "    df = sampler.load_data_df()\n",
    "    df = df.between_time(start_time='09:02:00', end_time='15:33:00')\n",
    "    df = df.fillna(0.)\n",
    "    df.columns = ['ask_prc_0', 'ask_size_0', \n",
    "                  'ask_prc_1', 'ask_size_1', \n",
    "                  'ask_prc_2', 'ask_size_2',\n",
    "                  'ask_prc_3', 'ask_size_3',\n",
    "                  'ask_prc_4', 'ask_size_4', \n",
    "                  'bid_prc_0', 'bid_size_0', \n",
    "                  'bid_prc_1', 'bid_size_1', \n",
    "                  'bid_prc_2', 'bid_size_2',\n",
    "                  'bid_prc_3', 'bid_size_3',\n",
    "                  'bid_prc_4', 'bid_size_4',\n",
    "                  'trad_price', 'trade_volume', 'trade_side', \n",
    "                  'a', 'b', 'time']\n",
    "    df.drop('a', axis=1, inplace=True)\n",
    "    df.drop('b', axis=1, inplace=True) \n",
    "    return df"
   ]
  },
  {
   "cell_type": "code",
   "execution_count": 55,
   "metadata": {},
   "outputs": [
    {
     "name": "stdout",
     "output_type": "stream",
     "text": [
      "DEBUG(PY: /ginkgo/Json.py:128:save) Writing file: /cache/zebo/2ca0b4d61a0b9c9b2dbf154b41f4049c7e5bc027/6261ce1f789171009bcb402620c7e21ed82802f0.json\n",
      "DEBUG(PY: /ginkgo/Json.py:128:save) Writing file: /cache/zebo/2ca0b4d61a0b9c9b2dbf154b41f4049c7e5bc027/6261ce1f789171009bcb402620c7e21ed82802f0.json\n",
      "\u001b[96m*** All 1 day(s) have been sampled, clear_cache to resample OR add more days \u001b[0m \n",
      "reading date=20171129 started\n"
     ]
    },
    {
     "data": {
      "text/html": [
       "<div>\n",
       "<table border=\"1\" class=\"dataframe\">\n",
       "  <thead>\n",
       "    <tr style=\"text-align: right;\">\n",
       "      <th></th>\n",
       "      <th>ask_prc_0</th>\n",
       "      <th>ask_size_0</th>\n",
       "      <th>ask_prc_1</th>\n",
       "      <th>ask_size_1</th>\n",
       "      <th>ask_prc_2</th>\n",
       "      <th>ask_size_2</th>\n",
       "      <th>ask_prc_3</th>\n",
       "      <th>ask_size_3</th>\n",
       "      <th>ask_prc_4</th>\n",
       "      <th>ask_size_4</th>\n",
       "      <th>...</th>\n",
       "      <th>bid_prc_2</th>\n",
       "      <th>bid_size_2</th>\n",
       "      <th>bid_prc_3</th>\n",
       "      <th>bid_size_3</th>\n",
       "      <th>bid_prc_4</th>\n",
       "      <th>bid_size_4</th>\n",
       "      <th>trad_price</th>\n",
       "      <th>trade_volume</th>\n",
       "      <th>trade_side</th>\n",
       "      <th>time</th>\n",
       "    </tr>\n",
       "    <tr>\n",
       "      <th>time</th>\n",
       "      <th></th>\n",
       "      <th></th>\n",
       "      <th></th>\n",
       "      <th></th>\n",
       "      <th></th>\n",
       "      <th></th>\n",
       "      <th></th>\n",
       "      <th></th>\n",
       "      <th></th>\n",
       "      <th></th>\n",
       "      <th></th>\n",
       "      <th></th>\n",
       "      <th></th>\n",
       "      <th></th>\n",
       "      <th></th>\n",
       "      <th></th>\n",
       "      <th></th>\n",
       "      <th></th>\n",
       "      <th></th>\n",
       "      <th></th>\n",
       "      <th></th>\n",
       "    </tr>\n",
       "  </thead>\n",
       "  <tbody>\n",
       "    <tr>\n",
       "      <th>2017-11-29 09:02:00.016377</th>\n",
       "      <td>1084.2</td>\n",
       "      <td>30.0</td>\n",
       "      <td>1084.3</td>\n",
       "      <td>275.0</td>\n",
       "      <td>1084.4</td>\n",
       "      <td>99.0</td>\n",
       "      <td>1084.5</td>\n",
       "      <td>80.0</td>\n",
       "      <td>1084.6</td>\n",
       "      <td>96.0</td>\n",
       "      <td>...</td>\n",
       "      <td>1083.9</td>\n",
       "      <td>160.0</td>\n",
       "      <td>1083.8</td>\n",
       "      <td>178.0</td>\n",
       "      <td>1083.7</td>\n",
       "      <td>85.0</td>\n",
       "      <td>0.0</td>\n",
       "      <td>0.0</td>\n",
       "      <td>0.0</td>\n",
       "      <td>3.252002e+10</td>\n",
       "    </tr>\n",
       "    <tr>\n",
       "      <th>2017-11-29 09:02:00.018001</th>\n",
       "      <td>1084.2</td>\n",
       "      <td>30.0</td>\n",
       "      <td>1084.3</td>\n",
       "      <td>275.0</td>\n",
       "      <td>1084.4</td>\n",
       "      <td>99.0</td>\n",
       "      <td>1084.5</td>\n",
       "      <td>80.0</td>\n",
       "      <td>1084.6</td>\n",
       "      <td>96.0</td>\n",
       "      <td>...</td>\n",
       "      <td>1083.9</td>\n",
       "      <td>160.0</td>\n",
       "      <td>1083.8</td>\n",
       "      <td>178.0</td>\n",
       "      <td>1083.7</td>\n",
       "      <td>85.0</td>\n",
       "      <td>0.0</td>\n",
       "      <td>0.0</td>\n",
       "      <td>0.0</td>\n",
       "      <td>3.252002e+10</td>\n",
       "    </tr>\n",
       "  </tbody>\n",
       "</table>\n",
       "<p>2 rows × 24 columns</p>\n",
       "</div>"
      ],
      "text/plain": [
       "                            ask_prc_0  ask_size_0  ask_prc_1  ask_size_1  \\\n",
       "time                                                                       \n",
       "2017-11-29 09:02:00.016377     1084.2        30.0     1084.3       275.0   \n",
       "2017-11-29 09:02:00.018001     1084.2        30.0     1084.3       275.0   \n",
       "\n",
       "                            ask_prc_2  ask_size_2  ask_prc_3  ask_size_3  \\\n",
       "time                                                                       \n",
       "2017-11-29 09:02:00.016377     1084.4        99.0     1084.5        80.0   \n",
       "2017-11-29 09:02:00.018001     1084.4        99.0     1084.5        80.0   \n",
       "\n",
       "                            ask_prc_4  ask_size_4      ...       bid_prc_2  \\\n",
       "time                                                   ...                   \n",
       "2017-11-29 09:02:00.016377     1084.6        96.0      ...          1083.9   \n",
       "2017-11-29 09:02:00.018001     1084.6        96.0      ...          1083.9   \n",
       "\n",
       "                            bid_size_2  bid_prc_3  bid_size_3  bid_prc_4  \\\n",
       "time                                                                       \n",
       "2017-11-29 09:02:00.016377       160.0     1083.8       178.0     1083.7   \n",
       "2017-11-29 09:02:00.018001       160.0     1083.8       178.0     1083.7   \n",
       "\n",
       "                            bid_size_4  trad_price  trade_volume  trade_side  \\\n",
       "time                                                                           \n",
       "2017-11-29 09:02:00.016377        85.0         0.0           0.0         0.0   \n",
       "2017-11-29 09:02:00.018001        85.0         0.0           0.0         0.0   \n",
       "\n",
       "                                    time  \n",
       "time                                      \n",
       "2017-11-29 09:02:00.016377  3.252002e+10  \n",
       "2017-11-29 09:02:00.018001  3.252002e+10  \n",
       "\n",
       "[2 rows x 24 columns]"
      ]
     },
     "metadata": {},
     "output_type": "display_data"
    },
    {
     "data": {
      "text/plain": [
       "<matplotlib.axes._subplots.AxesSubplot at 0x7f51c1dd9e50>"
      ]
     },
     "execution_count": 55,
     "metadata": {},
     "output_type": "execute_result"
    },
    {
     "data": {
      "image/png": "[encoded data removed]",
      "text/plain": [
       "<matplotlib.figure.Figure at 0x7f51c04f4810>"
      ]
     },
     "metadata": {},
     "output_type": "display_data"
    }
   ],
   "source": [
    "df = get_dataframe('KRW_G0.KRX', 'KRX', '20171129')\n",
    "display(df[:2])\n",
    "df.ask_prc_0.plot()"
   ]
  },
  {
   "cell_type": "markdown",
   "metadata": {},
   "source": [
    "##### Convert the market dataframe into trainning features\n",
    "1. Here we only consider booksize changes\n",
    "2. We only considering 10 ms time interval changes"
   ]
  },
  {
   "cell_type": "code",
   "execution_count": 56,
   "metadata": {},
   "outputs": [],
   "source": [
    "from keras.utils import np_utils\n",
    "def snapShotConversion(prc, size, array_size = 160):\n",
    "    '''\n",
    "    Convert 5 levels of price, size into one hot notation\n",
    "    '''\n",
    "    return np.dot(size, np_utils.to_categorical(prc, num_classes=array_size))\n",
    "def toImage(prc_feat, size_feat, array_size = 160):\n",
    "    '''\n",
    "    Convert price, size information into image notation\n",
    "    '''\n",
    "    return np.array([snapShotConversion(prc_feat[i], size_feat[i], array_size=array_size) for i in range(len(size_feat))])"
   ]
  },
  {
   "cell_type": "code",
   "execution_count": 57,
   "metadata": {
    "collapsed": true
   },
   "outputs": [],
   "source": [
    "## Convert dataframe in to intervaled book size info\n",
    "MIN_PRICE = 1075\n",
    "DELTA = 0.01\n",
    "ARRAY_SIZE = 160 \n",
    "def getIntervalBookInfo(df, start_time, end_time, time_interval='200000U'):\n",
    "    df = df.drop(['trad_price', 'trade_volume', 'trade_side'], axis=1)\n",
    "    \n",
    "    # We create a common series of timestamps\n",
    "    common_tseries = pd.DataFrame(pd.date_range(\"2017-11-29 {0}\".format(start_time), \n",
    "                                                \"2017-11-29 {0}\".format(end_time), freq = time_interval))\n",
    "    common_tseries = common_tseries.set_index(common_tseries.columns.values[0])\n",
    "    common_index = common_tseries.index\n",
    "    \n",
    "    df = df.groupby(df.index).first()                                   # Remove duplicate indices\n",
    "    \n",
    "    uidx = df.index.union(common_index)                                 # We need first reindex the data on a union of indices\n",
    "    df = df.reindex(uidx)\n",
    "    df = df.ffill()                                       # Using forward fill to fill in the missing data\n",
    "    df = df.reindex(common_index)                                       # using ghe common timestamps as index\n",
    "    return df"
   ]
  },
  {
   "cell_type": "code",
   "execution_count": 58,
   "metadata": {},
   "outputs": [
    {
     "data": {
      "text/html": [
       "<div>\n",
       "<table border=\"1\" class=\"dataframe\">\n",
       "  <thead>\n",
       "    <tr style=\"text-align: right;\">\n",
       "      <th></th>\n",
       "      <th>ask_prc_0</th>\n",
       "      <th>ask_size_0</th>\n",
       "      <th>ask_prc_1</th>\n",
       "      <th>ask_size_1</th>\n",
       "      <th>ask_prc_2</th>\n",
       "      <th>ask_size_2</th>\n",
       "      <th>ask_prc_3</th>\n",
       "      <th>ask_size_3</th>\n",
       "      <th>ask_prc_4</th>\n",
       "      <th>ask_size_4</th>\n",
       "      <th>...</th>\n",
       "      <th>bid_size_0</th>\n",
       "      <th>bid_prc_1</th>\n",
       "      <th>bid_size_1</th>\n",
       "      <th>bid_prc_2</th>\n",
       "      <th>bid_size_2</th>\n",
       "      <th>bid_prc_3</th>\n",
       "      <th>bid_size_3</th>\n",
       "      <th>bid_prc_4</th>\n",
       "      <th>bid_size_4</th>\n",
       "      <th>time</th>\n",
       "    </tr>\n",
       "    <tr>\n",
       "      <th>0</th>\n",
       "      <th></th>\n",
       "      <th></th>\n",
       "      <th></th>\n",
       "      <th></th>\n",
       "      <th></th>\n",
       "      <th></th>\n",
       "      <th></th>\n",
       "      <th></th>\n",
       "      <th></th>\n",
       "      <th></th>\n",
       "      <th></th>\n",
       "      <th></th>\n",
       "      <th></th>\n",
       "      <th></th>\n",
       "      <th></th>\n",
       "      <th></th>\n",
       "      <th></th>\n",
       "      <th></th>\n",
       "      <th></th>\n",
       "      <th></th>\n",
       "      <th></th>\n",
       "    </tr>\n",
       "  </thead>\n",
       "  <tbody>\n",
       "    <tr>\n",
       "      <th>2017-11-29 09:35:00.000</th>\n",
       "      <td>1083.4</td>\n",
       "      <td>52.0</td>\n",
       "      <td>1083.5</td>\n",
       "      <td>588.0</td>\n",
       "      <td>1083.6</td>\n",
       "      <td>537.0</td>\n",
       "      <td>1083.7</td>\n",
       "      <td>284.0</td>\n",
       "      <td>1083.8</td>\n",
       "      <td>265.0</td>\n",
       "      <td>...</td>\n",
       "      <td>246.0</td>\n",
       "      <td>1083.2</td>\n",
       "      <td>274.0</td>\n",
       "      <td>1083.1</td>\n",
       "      <td>439.0</td>\n",
       "      <td>1083.0</td>\n",
       "      <td>286.0</td>\n",
       "      <td>1082.9</td>\n",
       "      <td>192.0</td>\n",
       "      <td>3.449952e+10</td>\n",
       "    </tr>\n",
       "    <tr>\n",
       "      <th>2017-11-29 09:35:00.200</th>\n",
       "      <td>1083.4</td>\n",
       "      <td>52.0</td>\n",
       "      <td>1083.5</td>\n",
       "      <td>588.0</td>\n",
       "      <td>1083.6</td>\n",
       "      <td>537.0</td>\n",
       "      <td>1083.7</td>\n",
       "      <td>284.0</td>\n",
       "      <td>1083.8</td>\n",
       "      <td>265.0</td>\n",
       "      <td>...</td>\n",
       "      <td>246.0</td>\n",
       "      <td>1083.2</td>\n",
       "      <td>274.0</td>\n",
       "      <td>1083.1</td>\n",
       "      <td>439.0</td>\n",
       "      <td>1083.0</td>\n",
       "      <td>286.0</td>\n",
       "      <td>1082.9</td>\n",
       "      <td>192.0</td>\n",
       "      <td>3.449952e+10</td>\n",
       "    </tr>\n",
       "    <tr>\n",
       "      <th>2017-11-29 09:35:00.400</th>\n",
       "      <td>1083.4</td>\n",
       "      <td>52.0</td>\n",
       "      <td>1083.5</td>\n",
       "      <td>588.0</td>\n",
       "      <td>1083.6</td>\n",
       "      <td>537.0</td>\n",
       "      <td>1083.7</td>\n",
       "      <td>284.0</td>\n",
       "      <td>1083.8</td>\n",
       "      <td>265.0</td>\n",
       "      <td>...</td>\n",
       "      <td>246.0</td>\n",
       "      <td>1083.2</td>\n",
       "      <td>274.0</td>\n",
       "      <td>1083.1</td>\n",
       "      <td>439.0</td>\n",
       "      <td>1083.0</td>\n",
       "      <td>286.0</td>\n",
       "      <td>1082.9</td>\n",
       "      <td>192.0</td>\n",
       "      <td>3.449952e+10</td>\n",
       "    </tr>\n",
       "    <tr>\n",
       "      <th>2017-11-29 09:35:00.600</th>\n",
       "      <td>1083.4</td>\n",
       "      <td>52.0</td>\n",
       "      <td>1083.5</td>\n",
       "      <td>588.0</td>\n",
       "      <td>1083.6</td>\n",
       "      <td>537.0</td>\n",
       "      <td>1083.7</td>\n",
       "      <td>284.0</td>\n",
       "      <td>1083.8</td>\n",
       "      <td>265.0</td>\n",
       "      <td>...</td>\n",
       "      <td>246.0</td>\n",
       "      <td>1083.2</td>\n",
       "      <td>274.0</td>\n",
       "      <td>1083.1</td>\n",
       "      <td>439.0</td>\n",
       "      <td>1083.0</td>\n",
       "      <td>286.0</td>\n",
       "      <td>1082.9</td>\n",
       "      <td>192.0</td>\n",
       "      <td>3.449952e+10</td>\n",
       "    </tr>\n",
       "    <tr>\n",
       "      <th>2017-11-29 09:35:00.800</th>\n",
       "      <td>1083.4</td>\n",
       "      <td>52.0</td>\n",
       "      <td>1083.5</td>\n",
       "      <td>588.0</td>\n",
       "      <td>1083.6</td>\n",
       "      <td>537.0</td>\n",
       "      <td>1083.7</td>\n",
       "      <td>284.0</td>\n",
       "      <td>1083.8</td>\n",
       "      <td>265.0</td>\n",
       "      <td>...</td>\n",
       "      <td>246.0</td>\n",
       "      <td>1083.2</td>\n",
       "      <td>274.0</td>\n",
       "      <td>1083.1</td>\n",
       "      <td>439.0</td>\n",
       "      <td>1083.0</td>\n",
       "      <td>286.0</td>\n",
       "      <td>1082.9</td>\n",
       "      <td>192.0</td>\n",
       "      <td>3.449952e+10</td>\n",
       "    </tr>\n",
       "  </tbody>\n",
       "</table>\n",
       "<p>5 rows × 21 columns</p>\n",
       "</div>"
      ],
      "text/plain": [
       "                         ask_prc_0  ask_size_0  ask_prc_1  ask_size_1  \\\n",
       "0                                                                       \n",
       "2017-11-29 09:35:00.000     1083.4        52.0     1083.5       588.0   \n",
       "2017-11-29 09:35:00.200     1083.4        52.0     1083.5       588.0   \n",
       "2017-11-29 09:35:00.400     1083.4        52.0     1083.5       588.0   \n",
       "2017-11-29 09:35:00.600     1083.4        52.0     1083.5       588.0   \n",
       "2017-11-29 09:35:00.800     1083.4        52.0     1083.5       588.0   \n",
       "\n",
       "                         ask_prc_2  ask_size_2  ask_prc_3  ask_size_3  \\\n",
       "0                                                                       \n",
       "2017-11-29 09:35:00.000     1083.6       537.0     1083.7       284.0   \n",
       "2017-11-29 09:35:00.200     1083.6       537.0     1083.7       284.0   \n",
       "2017-11-29 09:35:00.400     1083.6       537.0     1083.7       284.0   \n",
       "2017-11-29 09:35:00.600     1083.6       537.0     1083.7       284.0   \n",
       "2017-11-29 09:35:00.800     1083.6       537.0     1083.7       284.0   \n",
       "\n",
       "                         ask_prc_4  ask_size_4      ...       bid_size_0  \\\n",
       "0                                                   ...                    \n",
       "2017-11-29 09:35:00.000     1083.8       265.0      ...            246.0   \n",
       "2017-11-29 09:35:00.200     1083.8       265.0      ...            246.0   \n",
       "2017-11-29 09:35:00.400     1083.8       265.0      ...            246.0   \n",
       "2017-11-29 09:35:00.600     1083.8       265.0      ...            246.0   \n",
       "2017-11-29 09:35:00.800     1083.8       265.0      ...            246.0   \n",
       "\n",
       "                         bid_prc_1  bid_size_1  bid_prc_2  bid_size_2  \\\n",
       "0                                                                       \n",
       "2017-11-29 09:35:00.000     1083.2       274.0     1083.1       439.0   \n",
       "2017-11-29 09:35:00.200     1083.2       274.0     1083.1       439.0   \n",
       "2017-11-29 09:35:00.400     1083.2       274.0     1083.1       439.0   \n",
       "2017-11-29 09:35:00.600     1083.2       274.0     1083.1       439.0   \n",
       "2017-11-29 09:35:00.800     1083.2       274.0     1083.1       439.0   \n",
       "\n",
       "                         bid_prc_3  bid_size_3  bid_prc_4  bid_size_4  \\\n",
       "0                                                                       \n",
       "2017-11-29 09:35:00.000     1083.0       286.0     1082.9       192.0   \n",
       "2017-11-29 09:35:00.200     1083.0       286.0     1082.9       192.0   \n",
       "2017-11-29 09:35:00.400     1083.0       286.0     1082.9       192.0   \n",
       "2017-11-29 09:35:00.600     1083.0       286.0     1082.9       192.0   \n",
       "2017-11-29 09:35:00.800     1083.0       286.0     1082.9       192.0   \n",
       "\n",
       "                                 time  \n",
       "0                                      \n",
       "2017-11-29 09:35:00.000  3.449952e+10  \n",
       "2017-11-29 09:35:00.200  3.449952e+10  \n",
       "2017-11-29 09:35:00.400  3.449952e+10  \n",
       "2017-11-29 09:35:00.600  3.449952e+10  \n",
       "2017-11-29 09:35:00.800  3.449952e+10  \n",
       "\n",
       "[5 rows x 21 columns]"
      ]
     },
     "metadata": {},
     "output_type": "display_data"
    },
    {
     "name": "stdout",
     "output_type": "stream",
     "text": [
      "103501\n"
     ]
    },
    {
     "data": {
      "text/plain": [
       "<matplotlib.axes._subplots.AxesSubplot at 0x7f51c3211d90>"
      ]
     },
     "execution_count": 58,
     "metadata": {},
     "output_type": "execute_result"
    },
    {
     "data": {
      "image/png": "[encoded data removed]",
      "text/plain": [
       "<matplotlib.figure.Figure at 0x7f51c22ac4d0>"
      ]
     },
     "metadata": {},
     "output_type": "display_data"
    }
   ],
   "source": [
    "df_interval = getIntervalBookInfo(df, \"09:35\", \"15:20\")\n",
    "display(df_interval[:5])\n",
    "print len(df_interval)\n",
    "df_interval.ask_prc_0.plot()"
   ]
  },
  {
   "cell_type": "code",
   "execution_count": 59,
   "metadata": {
    "collapsed": true
   },
   "outputs": [],
   "source": [
    "## get book features\n",
    "def getAskBidFeatures(df, min_price = 1075, tick_size = 0.1, array_size = 160, delta = 0.01):\n",
    "    \n",
    "    ## Ask levels\n",
    "    ask_prc_feat = df[['ask_prc_{0}'.format(str(i)) for i in range(5)]].as_matrix()\n",
    "    ask_size_feat = df[['ask_size_{0}'.format(str(i)) for i in range(5)]].as_matrix()\n",
    "    assert(ask_prc_feat.max() < min_price + tick_size*array_size)\n",
    "    ask_prc_feat = (ask_prc_feat - min_price + delta)/tick_size\n",
    "    ask_prc_feat = ask_prc_feat.astype(np.int16)\n",
    "    ask_prc_feat[ask_prc_feat < 0] = 0\n",
    "    ask_size_feat = np.log(ask_size_feat + 1.)\n",
    "    ask_book = toImage(ask_prc_feat, ask_size_feat, array_size=array_size)\n",
    "    \n",
    "    ## Bid levels\n",
    "    bid_prc_feat = df[['bid_prc_{0}'.format(str(i)) for i in range(5)]].as_matrix()\n",
    "    bid_size_feat = df[['bid_size_{0}'.format(str(i)) for i in range(5)]].as_matrix()\n",
    "    assert(bid_prc_feat.max() < min_price + tick_size*array_size)\n",
    "    bid_prc_feat = (bid_prc_feat - min_price + delta)/tick_size\n",
    "    bid_prc_feat = bid_prc_feat.astype(np.int16)\n",
    "    bid_prc_feat[bid_prc_feat < 0] = 0\n",
    "    bid_size_feat = np.log(bid_size_feat + 1.)\n",
    "    bid_book = toImage(bid_prc_feat, bid_size_feat, array_size=array_size)\n",
    "    \n",
    "    return ask_book, bid_book"
   ]
  },
  {
   "cell_type": "code",
   "execution_count": 60,
   "metadata": {
    "collapsed": true
   },
   "outputs": [],
   "source": [
    "ask_book_feat, bid_book_feat = getAskBidFeatures(df_interval)"
   ]
  },
  {
   "cell_type": "markdown",
   "metadata": {},
   "source": [
    "##### Visualize the book features:\n",
    "- ASK"
   ]
  },
  {
   "cell_type": "code",
   "execution_count": 61,
   "metadata": {},
   "outputs": [
    {
     "data": {
      "text/plain": [
       "<matplotlib.collections.QuadMesh at 0x7f51c0e80bd0>"
      ]
     },
     "execution_count": 61,
     "metadata": {},
     "output_type": "execute_result"
    },
    {
     "data": {
      "image/png": "[encoded data removed]",
      "text/plain": [
       "<matplotlib.figure.Figure at 0x7f5175a57d90>"
      ]
     },
     "metadata": {},
     "output_type": "display_data"
    }
   ],
   "source": [
    "plt.pcolormesh(ask_book_feat.transpose(), cmap='PuBu_r')"
   ]
  },
  {
   "cell_type": "markdown",
   "metadata": {},
   "source": [
    "- BID"
   ]
  },
  {
   "cell_type": "code",
   "execution_count": 62,
   "metadata": {},
   "outputs": [
    {
     "data": {
      "text/plain": [
       "<matplotlib.collections.QuadMesh at 0x7f51c261afd0>"
      ]
     },
     "execution_count": 62,
     "metadata": {},
     "output_type": "execute_result"
    },
    {
     "data": {
      "image/png": "[encoded data removed]",
      "text/plain": [
       "<matplotlib.figure.Figure at 0x7f51c0fe6510>"
      ]
     },
     "metadata": {},
     "output_type": "display_data"
    }
   ],
   "source": [
    "plt.pcolormesh(bid_book_feat.transpose(), cmap='PuBu_r')"
   ]
  },
  {
   "cell_type": "markdown",
   "metadata": {},
   "source": [
    "- Target (MID PRICE)"
   ]
  },
  {
   "cell_type": "code",
   "execution_count": 63,
   "metadata": {},
   "outputs": [
    {
     "data": {
      "image/png": "[encoded data removed]",
      "text/plain": [
       "<matplotlib.figure.Figure at 0x7f520aac6410>"
      ]
     },
     "metadata": {},
     "output_type": "display_data"
    }
   ],
   "source": [
    "df_interval['target'] = (df_interval.ask_prc_0 + df_interval.bid_prc_0)/2.\n",
    "df_interval.target.plot()\n",
    "raw_y = np.array(df_interval.target.tolist())"
   ]
  },
  {
   "cell_type": "code",
   "execution_count": 64,
   "metadata": {},
   "outputs": [
    {
     "name": "stdout",
     "output_type": "stream",
     "text": [
      "(103501, 160) 6.74051935961\n",
      "(103501, 160) 6.75460409949\n",
      "(103501,)\n"
     ]
    }
   ],
   "source": [
    "print ask_book_feat.shape, ask_book_feat.max()\n",
    "print bid_book_feat.shape, bid_book_feat.max()\n",
    "print raw_y.shape"
   ]
  },
  {
   "cell_type": "markdown",
   "metadata": {},
   "source": [
    "###### Using Lookback = 60 (: 12s)"
   ]
  },
  {
   "cell_type": "code",
   "execution_count": 65,
   "metadata": {},
   "outputs": [
    {
     "name": "stdout",
     "output_type": "stream",
     "text": [
      "CPU times: user 884 ms, sys: 18.8 s, total: 19.7 s\n",
      "Wall time: 19.4 s\n",
      "CPU times: user 777 ms, sys: 48.6 s, total: 49.4 s\n",
      "Wall time: 48.5 s\n",
      "(103201, 60, 160)\n",
      "(103201, 60, 160)\n"
     ]
    }
   ],
   "source": [
    "LOOK_BACK = 60\n",
    "%time raw_x_ask = np.array([ask_book_feat[i: i+LOOK_BACK] for i in range(len(ask_book_feat) - 300)])\n",
    "%time raw_x_bid = np.array([bid_book_feat[i: i+LOOK_BACK] for i in range(len(bid_book_feat) - 300)])\n",
    "print raw_x_ask.shape\n",
    "print raw_x_bid.shape"
   ]
  },
  {
   "cell_type": "code",
   "execution_count": 66,
   "metadata": {},
   "outputs": [
    {
     "name": "stdout",
     "output_type": "stream",
     "text": [
      "(103201, 60, 160, 1)\n",
      "(103201, 60, 160, 1)\n"
     ]
    }
   ],
   "source": [
    "## reshape\n",
    "a, b, c = raw_x_ask.shape\n",
    "raw_x_ask = raw_x_ask.reshape(a, b, c, 1)\n",
    "raw_x_bid = raw_x_bid.reshape(a, b, c, 1)\n",
    "print raw_x_ask.shape\n",
    "print raw_x_bid.shape"
   ]
  },
  {
   "cell_type": "markdown",
   "metadata": {},
   "source": [
    "###### TRYing Horizon = 10 time stamp"
   ]
  },
  {
   "cell_type": "code",
   "execution_count": 67,
   "metadata": {},
   "outputs": [
    {
     "name": "stdout",
     "output_type": "stream",
     "text": [
      "CPU times: user 9 µs, sys: 12 µs, total: 21 µs\n",
      "Wall time: 33.1 µs\n",
      "(103401,)\n"
     ]
    }
   ],
   "source": [
    "HORIZON = 3\n",
    "%time raw_y = raw_y[LOOK_BACK + HORIZON: LOOK_BACK + HORIZON + len(ask_book_feat) - 100]\n",
    "print raw_y.shape"
   ]
  },
  {
   "cell_type": "code",
   "execution_count": 68,
   "metadata": {
    "collapsed": true
   },
   "outputs": [],
   "source": [
    "#KERAS MODEL DEFINITION\n",
    "from keras.layers import Input, Dropout, Dense, Activation, concatenate, GRU, Embedding, Flatten\n",
    "from keras.layers import Flatten, Conv2D, MaxPooling2D, Reshape\n",
    "from keras.models import Model\n",
    "from keras.callbacks import ModelCheckpoint, Callback, EarlyStopping\n",
    "from keras import backend as K\n",
    "from keras.optimizers import SGD, Adam, RMSprop\n",
    "from sklearn.preprocessing import LabelEncoder, MinMaxScaler, StandardScaler"
   ]
  },
  {
   "cell_type": "code",
   "execution_count": 69,
   "metadata": {},
   "outputs": [],
   "source": [
    "# Splitting train and test sets\n",
    "N_train = int(len(raw_y)*0.8)\n",
    "N_test = len(raw_y) - N_train\n",
    "train_ask = raw_x_ask[: N_train]\n",
    "test_ask = raw_x_ask[N_train:]\n",
    "train_bid = raw_x_bid[: N_train]\n",
    "test_bid = raw_x_bid[N_train:]\n",
    "train_y = raw_y[: N_train]\n",
    "test_y = raw_y[N_train:]"
   ]
  },
  {
   "cell_type": "code",
   "execution_count": 70,
   "metadata": {},
   "outputs": [
    {
     "name": "stdout",
     "output_type": "stream",
     "text": [
      "1084.75 1081.75\n",
      "[ 1083.25  1083.25  1083.25  1083.25  1083.25  1083.25  1083.25  1083.25\n",
      "  1083.25  1083.25  1083.25  1083.25  1083.25  1083.25  1083.25  1083.25\n",
      "  1083.25  1083.25  1083.25  1083.35]\n"
     ]
    },
    {
     "data": {
      "text/plain": [
       "[<matplotlib.lines.Line2D at 0x7f51c000de10>]"
      ]
     },
     "execution_count": 70,
     "metadata": {},
     "output_type": "execute_result"
    },
    {
     "data": {
      "image/png": "[encoded data removed]",
      "text/plain": [
       "<matplotlib.figure.Figure at 0x7f51c1dd9610>"
      ]
     },
     "metadata": {},
     "output_type": "display_data"
    }
   ],
   "source": [
    "print train_y.max(), train_y.min()\n",
    "target_scaler = MinMaxScaler(feature_range=(-1, 1))\n",
    "print train_y[:20]\n",
    "plt.plot(train_y)"
   ]
  },
  {
   "cell_type": "code",
   "execution_count": 71,
   "metadata": {},
   "outputs": [
    {
     "name": "stdout",
     "output_type": "stream",
     "text": [
      "____________________________________________________________________________________________________\n",
      "Layer (type)                     Output Shape          Param #     Connected to                     \n",
      "====================================================================================================\n",
      "ask_book (InputLayer)            (None, 60, 160, 1)    0                                            \n",
      "____________________________________________________________________________________________________\n",
      "bid_book (InputLayer)            (None, 60, 160, 1)    0                                            \n",
      "____________________________________________________________________________________________________\n",
      "conv2d_9 (Conv2D)                (None, 60, 160, 4)    104                                          \n",
      "____________________________________________________________________________________________________\n",
      "conv2d_11 (Conv2D)               (None, 60, 160, 4)    104                                          \n",
      "____________________________________________________________________________________________________\n",
      "max_pooling2d_9 (MaxPooling2D)   (None, 30, 80, 4)     0                                            \n",
      "____________________________________________________________________________________________________\n",
      "max_pooling2d_11 (MaxPooling2D)  (None, 30, 80, 4)     0                                            \n",
      "____________________________________________________________________________________________________\n",
      "dropout_11 (Dropout)             (None, 30, 80, 4)     0                                            \n",
      "____________________________________________________________________________________________________\n",
      "dropout_13 (Dropout)             (None, 30, 80, 4)     0                                            \n",
      "____________________________________________________________________________________________________\n",
      "conv2d_10 (Conv2D)               (None, 30, 80, 8)     296                                          \n",
      "____________________________________________________________________________________________________\n",
      "conv2d_12 (Conv2D)               (None, 30, 80, 8)     296                                          \n",
      "____________________________________________________________________________________________________\n",
      "max_pooling2d_10 (MaxPooling2D)  (None, 15, 40, 8)     0                                            \n",
      "____________________________________________________________________________________________________\n",
      "max_pooling2d_12 (MaxPooling2D)  (None, 15, 40, 8)     0                                            \n",
      "____________________________________________________________________________________________________\n",
      "dropout_12 (Dropout)             (None, 15, 40, 8)     0                                            \n",
      "____________________________________________________________________________________________________\n",
      "dropout_14 (Dropout)             (None, 15, 40, 8)     0                                            \n",
      "____________________________________________________________________________________________________\n",
      "flatten_5 (Flatten)              (None, 4800)          0                                            \n",
      "____________________________________________________________________________________________________\n",
      "flatten_6 (Flatten)              (None, 4800)          0                                            \n",
      "____________________________________________________________________________________________________\n",
      "concatenate_3 (Concatenate)      (None, 9600)          0                                            \n",
      "____________________________________________________________________________________________________\n",
      "dense_5 (Dense)                  (None, 32)            307232                                       \n",
      "____________________________________________________________________________________________________\n",
      "dropout_15 (Dropout)             (None, 32)            0                                            \n",
      "____________________________________________________________________________________________________\n",
      "dense_6 (Dense)                  (None, 1)             33                                           \n",
      "====================================================================================================\n",
      "Total params: 308,065.0\n",
      "Trainable params: 308,065.0\n",
      "Non-trainable params: 0.0\n",
      "____________________________________________________________________________________________________\n"
     ]
    }
   ],
   "source": [
    "## Constructing Model\n",
    "#Inputs\n",
    "ask_book = Input(shape=train_ask.shape[1:], name=\"ask_book\")\n",
    "bid_book = Input(shape=train_bid.shape[1:], name=\"bid_book\")\n",
    "\n",
    "# 2D convs\n",
    "ask_conv = Conv2D(4, kernel_size=(5, 5), padding='same', activation='relu')(ask_book)\n",
    "ask_conv = MaxPooling2D(pool_size = (2, 2)) (ask_conv)\n",
    "ask_conv = Dropout(0.5) (ask_conv)\n",
    "ask_conv = Conv2D(8, kernel_size=(3, 3), padding='same', activation='relu')(ask_conv)\n",
    "ask_conv = MaxPooling2D(pool_size = (2, 2)) (ask_conv)\n",
    "ask_conv = Dropout(0.75) (ask_conv)\n",
    "\n",
    "bid_conv = Conv2D(4, kernel_size=(5, 5), padding='same', activation='relu')(bid_book)\n",
    "bid_conv = MaxPooling2D(pool_size = (2, 2)) (bid_conv)\n",
    "bid_conv = Dropout(0.5) (bid_conv)\n",
    "bid_conv = Conv2D(8, kernel_size=(3, 3), padding='same', activation='relu')(bid_conv)\n",
    "bid_conv = MaxPooling2D(pool_size = (2, 2)) (bid_conv)\n",
    "bid_conv = Dropout(0.75) (bid_conv)\n",
    "\n",
    "main_layer = concatenate([\n",
    "    Flatten() (ask_conv),\n",
    "    Flatten() (bid_conv),\n",
    "])\n",
    "main_layer = Dropout(0.8) (Dense(32) (main_layer))\n",
    "output = Dense(1, activation=\"linear\") (main_layer)\n",
    "model = Model([ask_book, bid_book], output)\n",
    "model.summary()"
   ]
  },
  {
   "cell_type": "code",
   "execution_count": 72,
   "metadata": {},
   "outputs": [],
   "source": [
    "# Split train into tr and cv\n",
    "N_tr = int(len(train_y)*0.8)\n",
    "tr_ask = train_ask[:N_tr]\n",
    "cv_ask = train_ask[N_tr:]\n",
    "tr_bid = train_bid[:N_tr]\n",
    "cv_bid = train_bid[N_tr:]\n",
    "tr_y = train_y[:N_tr]\n",
    "cv_y = train_y[N_tr:]"
   ]
  },
  {
   "cell_type": "code",
   "execution_count": 75,
   "metadata": {},
   "outputs": [],
   "source": [
    "#model\n",
    "optimizer = Adam(0.05)\n",
    "model.compile(loss=\"mse\", optimizer=optimizer)"
   ]
  },
  {
   "cell_type": "code",
   "execution_count": 76,
   "metadata": {},
   "outputs": [
    {
     "name": "stdout",
     "output_type": "stream",
     "text": [
      "Train on 66176 samples, validate on 16544 samples\n",
      "Epoch 1/10\n",
      "66176/66176 [==============================] - 37s - loss: 147182.9732 - val_loss: 44516.0849\n",
      "Epoch 2/10\n",
      "66176/66176 [==============================] - 36s - loss: 131968.4730 - val_loss: 24719.6331\n",
      "Epoch 3/10\n",
      "66176/66176 [==============================] - 34s - loss: 134732.4760 - val_loss: 10895.9426\n",
      "Epoch 4/10\n",
      "66176/66176 [==============================] - 35s - loss: 127905.1461 - val_loss: 563.9938\n",
      "Epoch 5/10\n",
      "66176/66176 [==============================] - 36s - loss: 126133.4244 - val_loss: 3661.9168\n",
      "Epoch 6/10\n",
      "66176/66176 [==============================] - 33s - loss: 124848.4759 - val_loss: 36779.8700\n",
      "Epoch 7/10\n",
      "66176/66176 [==============================] - 34s - loss: 120531.5712 - val_loss: 3274.5491\n",
      "Epoch 8/10\n",
      "66176/66176 [==============================] - 35s - loss: 118828.4968 - val_loss: 5800.8859\n",
      "Epoch 9/10\n",
      "66176/66176 [==============================] - 36s - loss: 116333.0534 - val_loss: 3442.5858\n",
      "Epoch 10/10\n",
      "66176/66176 [==============================] - 37s - loss: 112080.7684 - val_loss: 7799.6118\n"
     ]
    },
    {
     "data": {
      "text/plain": [
       "<keras.callbacks.History at 0x7f51c01b3a10>"
      ]
     },
     "execution_count": 76,
     "metadata": {},
     "output_type": "execute_result"
    }
   ],
   "source": [
    "#FITTING THE MODEL\n",
    "BATCH_SIZE  =  256\n",
    "epochs = 10\n",
    "model.fit([tr_ask, tr_bid], tr_y, epochs=epochs, batch_size=BATCH_SIZE\n",
    "          , validation_data=([cv_ask, cv_bid], cv_y)\n",
    "          , verbose=1)"
   ]
  },
  {
   "cell_type": "code",
   "execution_count": 77,
   "metadata": {
    "collapsed": true
   },
   "outputs": [],
   "source": [
    "#CREATE PREDICTIONS\n",
    "preds = model.predict([test_ask, test_bid], batch_size=BATCH_SIZE)"
   ]
  },
  {
   "cell_type": "code",
   "execution_count": 78,
   "metadata": {},
   "outputs": [
    {
     "data": {
      "text/plain": [
       "[<matplotlib.lines.Line2D at 0x7f51c05ae550>]"
      ]
     },
     "execution_count": 78,
     "metadata": {},
     "output_type": "execute_result"
    },
    {
     "data": {
      "image/png": "[encoded data removed]",
      "text/plain": [
       "<matplotlib.figure.Figure at 0x7f51c0704fd0>"
      ]
     },
     "metadata": {},
     "output_type": "display_data"
    }
   ],
   "source": [
    "# show results\n",
    "fig, ax = plt.subplots(1,1, figsize = (6, 6))\n",
    "ax.plot(test_y)\n",
    "ax.plot(preds)"
   ]
  },
  {
   "cell_type": "code",
   "execution_count": null,
   "metadata": {
    "collapsed": true
   },
   "outputs": [],
   "source": []
  }
 ],
 "metadata": {
  "kernelspec": {
   "display_name": "Python 2",
   "language": "python",
   "name": "python2"
  },
  "language_info": {
   "codemirror_mode": {
    "name": "ipython",
    "version": 2
   },
   "file_extension": ".py",
   "mimetype": "text/x-python",
   "name": "python",
   "nbconvert_exporter": "python",
   "pygments_lexer": "ipython2",
   "version": "2.7.13"
  }
 },
 "nbformat": 4,
 "nbformat_minor": 2
}
