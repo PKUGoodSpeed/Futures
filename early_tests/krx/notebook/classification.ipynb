{
 "cells": [
  {
   "cell_type": "code",
   "execution_count": 1,
   "metadata": {},
   "outputs": [
    {
     "name": "stdout",
     "output_type": "stream",
     "text": [
      "Deprecated: use ginkgo.Repo instead\n"
     ]
    }
   ],
   "source": [
    "# Basic\n",
    "import numpy as np\n",
    "import pandas as pd\n",
    "\n",
    "# Load market data\n",
    "import gsampler as gs\n",
    "\n",
    "# Visualization\n",
    "from IPython.display import display\n",
    "%matplotlib inline\n",
    "import matplotlib.pyplot as plt"
   ]
  },
  {
   "cell_type": "markdown",
   "metadata": {},
   "source": [
    "##### Load market data"
   ]
  },
  {
   "cell_type": "code",
   "execution_count": 2,
   "metadata": {
    "collapsed": true
   },
   "outputs": [],
   "source": [
    "def get_dataframe(symbol, colo, date):\n",
    "    '''\n",
    "    Obtaining a dataframe directly from gsampler:\n",
    "    The dataframe contains:\n",
    "        ask_book_price, ask_book_size from level 1 to level 5\n",
    "        bid_book_price, bid_book_size from level 1 to level 5\n",
    "        trade_price\n",
    "        trade_volume\n",
    "        trade_side\n",
    "    '''\n",
    "    dates = [date]\n",
    "    features = []\n",
    "    for i in range(5):\n",
    "        features.append(gs.FeatureAskPrice(symbol = symbol, level = i))\n",
    "        features.append(gs.FeatureAskQty(symbol = symbol, level = i))\n",
    "    for i in range(5):\n",
    "        features.append(gs.FeatureBidPrice(symbol = symbol, level = i))\n",
    "        features.append(gs.FeatureBidQty(symbol = symbol, level = i))\n",
    "    features.append(gs.FeatureTradePrice(symbol = symbol))\n",
    "    features.append(gs.FeatureTradeSize(symbol = symbol))\n",
    "    features.append(gs.FeatureTradeSide(symbol = symbol))\n",
    "    features.append(gs.FeatureTickerIdCast())\n",
    "    sampler = gs.SamplerRunner(features = features, dates = dates, colo = colo, cb_version = 'v2')\n",
    "    sampler.run()\n",
    "    df = sampler.load_data_df()\n",
    "    df = df.between_time(start_time='09:02:00', end_time='15:33:00')\n",
    "    df = df.fillna(0.)\n",
    "    df.columns = ['ask_prc_0', 'ask_size_0', \n",
    "                  'ask_prc_1', 'ask_size_1', \n",
    "                  'ask_prc_2', 'ask_size_2',\n",
    "                  'ask_prc_3', 'ask_size_3',\n",
    "                  'ask_prc_4', 'ask_size_4', \n",
    "                  'bid_prc_0', 'bid_size_0', \n",
    "                  'bid_prc_1', 'bid_size_1', \n",
    "                  'bid_prc_2', 'bid_size_2',\n",
    "                  'bid_prc_3', 'bid_size_3',\n",
    "                  'bid_prc_4', 'bid_size_4',\n",
    "                  'trad_price', 'trade_volume', 'trade_side', \n",
    "                  'a', 'b', 'time']\n",
    "    df.drop('a', axis=1, inplace=True)\n",
    "    df.drop('b', axis=1, inplace=True) \n",
    "    return df"
   ]
  },
  {
   "cell_type": "code",
   "execution_count": 3,
   "metadata": {},
   "outputs": [
    {
     "name": "stdout",
     "output_type": "stream",
     "text": [
      "\u001b[1m\u001b[38;5;175m--- set codebase: ginkgo\u001b[0m\n",
      "DEBUG(PY: /ginkgo/Json.py:128:save) Writing file: /cache/zebo/2ca0b4d61a0b9c9b2dbf154b41f4049c7e5bc027/6261ce1f789171009bcb402620c7e21ed82802f0.json\n",
      "DEBUG(PY: /ginkgo/Json.py:128:save) Writing file: /cache/zebo/2ca0b4d61a0b9c9b2dbf154b41f4049c7e5bc027/6261ce1f789171009bcb402620c7e21ed82802f0.json\n",
      "\u001b[96m*** All 1 day(s) have been sampled, clear_cache to resample OR add more days \u001b[0m \n",
      "reading date=20171129 started\n"
     ]
    },
    {
     "data": {
      "text/html": [
       "<div>\n",
       "<table border=\"1\" class=\"dataframe\">\n",
       "  <thead>\n",
       "    <tr style=\"text-align: right;\">\n",
       "      <th></th>\n",
       "      <th>ask_prc_0</th>\n",
       "      <th>ask_size_0</th>\n",
       "      <th>ask_prc_1</th>\n",
       "      <th>ask_size_1</th>\n",
       "      <th>ask_prc_2</th>\n",
       "      <th>ask_size_2</th>\n",
       "      <th>ask_prc_3</th>\n",
       "      <th>ask_size_3</th>\n",
       "      <th>ask_prc_4</th>\n",
       "      <th>ask_size_4</th>\n",
       "      <th>...</th>\n",
       "      <th>bid_prc_2</th>\n",
       "      <th>bid_size_2</th>\n",
       "      <th>bid_prc_3</th>\n",
       "      <th>bid_size_3</th>\n",
       "      <th>bid_prc_4</th>\n",
       "      <th>bid_size_4</th>\n",
       "      <th>trad_price</th>\n",
       "      <th>trade_volume</th>\n",
       "      <th>trade_side</th>\n",
       "      <th>time</th>\n",
       "    </tr>\n",
       "    <tr>\n",
       "      <th>time</th>\n",
       "      <th></th>\n",
       "      <th></th>\n",
       "      <th></th>\n",
       "      <th></th>\n",
       "      <th></th>\n",
       "      <th></th>\n",
       "      <th></th>\n",
       "      <th></th>\n",
       "      <th></th>\n",
       "      <th></th>\n",
       "      <th></th>\n",
       "      <th></th>\n",
       "      <th></th>\n",
       "      <th></th>\n",
       "      <th></th>\n",
       "      <th></th>\n",
       "      <th></th>\n",
       "      <th></th>\n",
       "      <th></th>\n",
       "      <th></th>\n",
       "      <th></th>\n",
       "    </tr>\n",
       "  </thead>\n",
       "  <tbody>\n",
       "    <tr>\n",
       "      <th>2017-11-29 09:02:00.016377</th>\n",
       "      <td>1084.2</td>\n",
       "      <td>30.0</td>\n",
       "      <td>1084.3</td>\n",
       "      <td>275.0</td>\n",
       "      <td>1084.4</td>\n",
       "      <td>99.0</td>\n",
       "      <td>1084.5</td>\n",
       "      <td>80.0</td>\n",
       "      <td>1084.6</td>\n",
       "      <td>96.0</td>\n",
       "      <td>...</td>\n",
       "      <td>1083.9</td>\n",
       "      <td>160.0</td>\n",
       "      <td>1083.8</td>\n",
       "      <td>178.0</td>\n",
       "      <td>1083.7</td>\n",
       "      <td>85.0</td>\n",
       "      <td>0.0</td>\n",
       "      <td>0.0</td>\n",
       "      <td>0.0</td>\n",
       "      <td>3.252002e+10</td>\n",
       "    </tr>\n",
       "    <tr>\n",
       "      <th>2017-11-29 09:02:00.018001</th>\n",
       "      <td>1084.2</td>\n",
       "      <td>30.0</td>\n",
       "      <td>1084.3</td>\n",
       "      <td>275.0</td>\n",
       "      <td>1084.4</td>\n",
       "      <td>99.0</td>\n",
       "      <td>1084.5</td>\n",
       "      <td>80.0</td>\n",
       "      <td>1084.6</td>\n",
       "      <td>96.0</td>\n",
       "      <td>...</td>\n",
       "      <td>1083.9</td>\n",
       "      <td>160.0</td>\n",
       "      <td>1083.8</td>\n",
       "      <td>178.0</td>\n",
       "      <td>1083.7</td>\n",
       "      <td>85.0</td>\n",
       "      <td>0.0</td>\n",
       "      <td>0.0</td>\n",
       "      <td>0.0</td>\n",
       "      <td>3.252002e+10</td>\n",
       "    </tr>\n",
       "  </tbody>\n",
       "</table>\n",
       "<p>2 rows × 24 columns</p>\n",
       "</div>"
      ],
      "text/plain": [
       "                            ask_prc_0  ask_size_0  ask_prc_1  ask_size_1  \\\n",
       "time                                                                       \n",
       "2017-11-29 09:02:00.016377     1084.2        30.0     1084.3       275.0   \n",
       "2017-11-29 09:02:00.018001     1084.2        30.0     1084.3       275.0   \n",
       "\n",
       "                            ask_prc_2  ask_size_2  ask_prc_3  ask_size_3  \\\n",
       "time                                                                       \n",
       "2017-11-29 09:02:00.016377     1084.4        99.0     1084.5        80.0   \n",
       "2017-11-29 09:02:00.018001     1084.4        99.0     1084.5        80.0   \n",
       "\n",
       "                            ask_prc_4  ask_size_4      ...       bid_prc_2  \\\n",
       "time                                                   ...                   \n",
       "2017-11-29 09:02:00.016377     1084.6        96.0      ...          1083.9   \n",
       "2017-11-29 09:02:00.018001     1084.6        96.0      ...          1083.9   \n",
       "\n",
       "                            bid_size_2  bid_prc_3  bid_size_3  bid_prc_4  \\\n",
       "time                                                                       \n",
       "2017-11-29 09:02:00.016377       160.0     1083.8       178.0     1083.7   \n",
       "2017-11-29 09:02:00.018001       160.0     1083.8       178.0     1083.7   \n",
       "\n",
       "                            bid_size_4  trad_price  trade_volume  trade_side  \\\n",
       "time                                                                           \n",
       "2017-11-29 09:02:00.016377        85.0         0.0           0.0         0.0   \n",
       "2017-11-29 09:02:00.018001        85.0         0.0           0.0         0.0   \n",
       "\n",
       "                                    time  \n",
       "time                                      \n",
       "2017-11-29 09:02:00.016377  3.252002e+10  \n",
       "2017-11-29 09:02:00.018001  3.252002e+10  \n",
       "\n",
       "[2 rows x 24 columns]"
      ]
     },
     "metadata": {},
     "output_type": "display_data"
    },
    {
     "data": {
      "text/plain": [
       "<matplotlib.axes._subplots.AxesSubplot at 0x7f3b53889d50>"
      ]
     },
     "execution_count": 3,
     "metadata": {},
     "output_type": "execute_result"
    },
    {
     "data": {
      "image/png": "[encoded data removed]",
      "text/plain": [
       "<matplotlib.figure.Figure at 0x7f3b53882790>"
      ]
     },
     "metadata": {},
     "output_type": "display_data"
    }
   ],
   "source": [
    "df = get_dataframe('KRW_G0.KRX', 'KRX', '20171129')\n",
    "display(df[:2])\n",
    "df.ask_prc_0.plot()"
   ]
  },
  {
   "cell_type": "markdown",
   "metadata": {},
   "source": [
    "##### Convert the market dataframe into trainning features\n",
    "1. Here we only consider booksize changes\n",
    "2. We only considering 10 ms time interval changes"
   ]
  },
  {
   "cell_type": "code",
   "execution_count": 4,
   "metadata": {},
   "outputs": [
    {
     "name": "stderr",
     "output_type": "stream",
     "text": [
      "Using TensorFlow backend.\n"
     ]
    }
   ],
   "source": [
    "from keras.utils import np_utils\n",
    "def snapShotConversion(prc, size, array_size = 160):\n",
    "    '''\n",
    "    Convert 5 levels of price, size into one hot notation\n",
    "    '''\n",
    "    return np.dot(size, np_utils.to_categorical(prc, num_classes=array_size))\n",
    "def toImage(prc_feat, size_feat, array_size = 160):\n",
    "    '''\n",
    "    Convert price, size information into image notation\n",
    "    '''\n",
    "    return np.array([snapShotConversion(prc_feat[i], size_feat[i], array_size=array_size) for i in range(len(size_feat))])"
   ]
  },
  {
   "cell_type": "code",
   "execution_count": null,
   "metadata": {
    "collapsed": true
   },
   "outputs": [],
   "source": [
    "## Convert dataframe in to intervaled book size info\n",
    "MIN_PRICE = 1075\n",
    "DELTA = 0.01\n",
    "ARRAY_SIZE = 160 \n",
    "def getIntervalBookInfo(df, start_time, end_time, time_interval='200000U'):\n",
    "    df = df.drop(['trad_price', 'trade_volume', 'trade_side'], axis=1)\n",
    "    \n",
    "    # We create a common series of timestamps\n",
    "    common_tseries = pd.DataFrame(pd.date_range(\"2017-11-29 {0}\".format(start_time), \n",
    "                                                \"2017-11-29 {0}\".format(end_time), freq = time_interval))\n",
    "    common_tseries = common_tseries.set_index(common_tseries.columns.values[0])\n",
    "    common_index = common_tseries.index\n",
    "    \n",
    "    df = df.groupby(df.index).first()                                   # Remove duplicate indices\n",
    "    \n",
    "    uidx = df.index.union(common_index)                                 # We need first reindex the data on a union of indices\n",
    "    df = df.reindex(uidx)\n",
    "    df = df.ffill()                                       # Using forward fill to fill in the missing data\n",
    "    df = df.reindex(common_index)                                       # using ghe common timestamps as index\n",
    "    return df"
   ]
  },
  {
   "cell_type": "code",
   "execution_count": null,
   "metadata": {},
   "outputs": [
    {
     "data": {
      "text/html": [
       "<div>\n",
       "<table border=\"1\" class=\"dataframe\">\n",
       "  <thead>\n",
       "    <tr style=\"text-align: right;\">\n",
       "      <th></th>\n",
       "      <th>ask_prc_0</th>\n",
       "      <th>ask_size_0</th>\n",
       "      <th>ask_prc_1</th>\n",
       "      <th>ask_size_1</th>\n",
       "      <th>ask_prc_2</th>\n",
       "      <th>ask_size_2</th>\n",
       "      <th>ask_prc_3</th>\n",
       "      <th>ask_size_3</th>\n",
       "      <th>ask_prc_4</th>\n",
       "      <th>ask_size_4</th>\n",
       "      <th>...</th>\n",
       "      <th>bid_size_0</th>\n",
       "      <th>bid_prc_1</th>\n",
       "      <th>bid_size_1</th>\n",
       "      <th>bid_prc_2</th>\n",
       "      <th>bid_size_2</th>\n",
       "      <th>bid_prc_3</th>\n",
       "      <th>bid_size_3</th>\n",
       "      <th>bid_prc_4</th>\n",
       "      <th>bid_size_4</th>\n",
       "      <th>time</th>\n",
       "    </tr>\n",
       "    <tr>\n",
       "      <th>0</th>\n",
       "      <th></th>\n",
       "      <th></th>\n",
       "      <th></th>\n",
       "      <th></th>\n",
       "      <th></th>\n",
       "      <th></th>\n",
       "      <th></th>\n",
       "      <th></th>\n",
       "      <th></th>\n",
       "      <th></th>\n",
       "      <th></th>\n",
       "      <th></th>\n",
       "      <th></th>\n",
       "      <th></th>\n",
       "      <th></th>\n",
       "      <th></th>\n",
       "      <th></th>\n",
       "      <th></th>\n",
       "      <th></th>\n",
       "      <th></th>\n",
       "      <th></th>\n",
       "    </tr>\n",
       "  </thead>\n",
       "  <tbody>\n",
       "    <tr>\n",
       "      <th>2017-11-29 09:35:00.000</th>\n",
       "      <td>1083.4</td>\n",
       "      <td>52.0</td>\n",
       "      <td>1083.5</td>\n",
       "      <td>588.0</td>\n",
       "      <td>1083.6</td>\n",
       "      <td>537.0</td>\n",
       "      <td>1083.7</td>\n",
       "      <td>284.0</td>\n",
       "      <td>1083.8</td>\n",
       "      <td>265.0</td>\n",
       "      <td>...</td>\n",
       "      <td>246.0</td>\n",
       "      <td>1083.2</td>\n",
       "      <td>274.0</td>\n",
       "      <td>1083.1</td>\n",
       "      <td>439.0</td>\n",
       "      <td>1083.0</td>\n",
       "      <td>286.0</td>\n",
       "      <td>1082.9</td>\n",
       "      <td>192.0</td>\n",
       "      <td>3.449952e+10</td>\n",
       "    </tr>\n",
       "    <tr>\n",
       "      <th>2017-11-29 09:35:00.200</th>\n",
       "      <td>1083.4</td>\n",
       "      <td>52.0</td>\n",
       "      <td>1083.5</td>\n",
       "      <td>588.0</td>\n",
       "      <td>1083.6</td>\n",
       "      <td>537.0</td>\n",
       "      <td>1083.7</td>\n",
       "      <td>284.0</td>\n",
       "      <td>1083.8</td>\n",
       "      <td>265.0</td>\n",
       "      <td>...</td>\n",
       "      <td>246.0</td>\n",
       "      <td>1083.2</td>\n",
       "      <td>274.0</td>\n",
       "      <td>1083.1</td>\n",
       "      <td>439.0</td>\n",
       "      <td>1083.0</td>\n",
       "      <td>286.0</td>\n",
       "      <td>1082.9</td>\n",
       "      <td>192.0</td>\n",
       "      <td>3.449952e+10</td>\n",
       "    </tr>\n",
       "    <tr>\n",
       "      <th>2017-11-29 09:35:00.400</th>\n",
       "      <td>1083.4</td>\n",
       "      <td>52.0</td>\n",
       "      <td>1083.5</td>\n",
       "      <td>588.0</td>\n",
       "      <td>1083.6</td>\n",
       "      <td>537.0</td>\n",
       "      <td>1083.7</td>\n",
       "      <td>284.0</td>\n",
       "      <td>1083.8</td>\n",
       "      <td>265.0</td>\n",
       "      <td>...</td>\n",
       "      <td>246.0</td>\n",
       "      <td>1083.2</td>\n",
       "      <td>274.0</td>\n",
       "      <td>1083.1</td>\n",
       "      <td>439.0</td>\n",
       "      <td>1083.0</td>\n",
       "      <td>286.0</td>\n",
       "      <td>1082.9</td>\n",
       "      <td>192.0</td>\n",
       "      <td>3.449952e+10</td>\n",
       "    </tr>\n",
       "    <tr>\n",
       "      <th>2017-11-29 09:35:00.600</th>\n",
       "      <td>1083.4</td>\n",
       "      <td>52.0</td>\n",
       "      <td>1083.5</td>\n",
       "      <td>588.0</td>\n",
       "      <td>1083.6</td>\n",
       "      <td>537.0</td>\n",
       "      <td>1083.7</td>\n",
       "      <td>284.0</td>\n",
       "      <td>1083.8</td>\n",
       "      <td>265.0</td>\n",
       "      <td>...</td>\n",
       "      <td>246.0</td>\n",
       "      <td>1083.2</td>\n",
       "      <td>274.0</td>\n",
       "      <td>1083.1</td>\n",
       "      <td>439.0</td>\n",
       "      <td>1083.0</td>\n",
       "      <td>286.0</td>\n",
       "      <td>1082.9</td>\n",
       "      <td>192.0</td>\n",
       "      <td>3.449952e+10</td>\n",
       "    </tr>\n",
       "    <tr>\n",
       "      <th>2017-11-29 09:35:00.800</th>\n",
       "      <td>1083.4</td>\n",
       "      <td>52.0</td>\n",
       "      <td>1083.5</td>\n",
       "      <td>588.0</td>\n",
       "      <td>1083.6</td>\n",
       "      <td>537.0</td>\n",
       "      <td>1083.7</td>\n",
       "      <td>284.0</td>\n",
       "      <td>1083.8</td>\n",
       "      <td>265.0</td>\n",
       "      <td>...</td>\n",
       "      <td>246.0</td>\n",
       "      <td>1083.2</td>\n",
       "      <td>274.0</td>\n",
       "      <td>1083.1</td>\n",
       "      <td>439.0</td>\n",
       "      <td>1083.0</td>\n",
       "      <td>286.0</td>\n",
       "      <td>1082.9</td>\n",
       "      <td>192.0</td>\n",
       "      <td>3.449952e+10</td>\n",
       "    </tr>\n",
       "  </tbody>\n",
       "</table>\n",
       "<p>5 rows × 21 columns</p>\n",
       "</div>"
      ],
      "text/plain": [
       "                         ask_prc_0  ask_size_0  ask_prc_1  ask_size_1  \\\n",
       "0                                                                       \n",
       "2017-11-29 09:35:00.000     1083.4        52.0     1083.5       588.0   \n",
       "2017-11-29 09:35:00.200     1083.4        52.0     1083.5       588.0   \n",
       "2017-11-29 09:35:00.400     1083.4        52.0     1083.5       588.0   \n",
       "2017-11-29 09:35:00.600     1083.4        52.0     1083.5       588.0   \n",
       "2017-11-29 09:35:00.800     1083.4        52.0     1083.5       588.0   \n",
       "\n",
       "                         ask_prc_2  ask_size_2  ask_prc_3  ask_size_3  \\\n",
       "0                                                                       \n",
       "2017-11-29 09:35:00.000     1083.6       537.0     1083.7       284.0   \n",
       "2017-11-29 09:35:00.200     1083.6       537.0     1083.7       284.0   \n",
       "2017-11-29 09:35:00.400     1083.6       537.0     1083.7       284.0   \n",
       "2017-11-29 09:35:00.600     1083.6       537.0     1083.7       284.0   \n",
       "2017-11-29 09:35:00.800     1083.6       537.0     1083.7       284.0   \n",
       "\n",
       "                         ask_prc_4  ask_size_4      ...       bid_size_0  \\\n",
       "0                                                   ...                    \n",
       "2017-11-29 09:35:00.000     1083.8       265.0      ...            246.0   \n",
       "2017-11-29 09:35:00.200     1083.8       265.0      ...            246.0   \n",
       "2017-11-29 09:35:00.400     1083.8       265.0      ...            246.0   \n",
       "2017-11-29 09:35:00.600     1083.8       265.0      ...            246.0   \n",
       "2017-11-29 09:35:00.800     1083.8       265.0      ...            246.0   \n",
       "\n",
       "                         bid_prc_1  bid_size_1  bid_prc_2  bid_size_2  \\\n",
       "0                                                                       \n",
       "2017-11-29 09:35:00.000     1083.2       274.0     1083.1       439.0   \n",
       "2017-11-29 09:35:00.200     1083.2       274.0     1083.1       439.0   \n",
       "2017-11-29 09:35:00.400     1083.2       274.0     1083.1       439.0   \n",
       "2017-11-29 09:35:00.600     1083.2       274.0     1083.1       439.0   \n",
       "2017-11-29 09:35:00.800     1083.2       274.0     1083.1       439.0   \n",
       "\n",
       "                         bid_prc_3  bid_size_3  bid_prc_4  bid_size_4  \\\n",
       "0                                                                       \n",
       "2017-11-29 09:35:00.000     1083.0       286.0     1082.9       192.0   \n",
       "2017-11-29 09:35:00.200     1083.0       286.0     1082.9       192.0   \n",
       "2017-11-29 09:35:00.400     1083.0       286.0     1082.9       192.0   \n",
       "2017-11-29 09:35:00.600     1083.0       286.0     1082.9       192.0   \n",
       "2017-11-29 09:35:00.800     1083.0       286.0     1082.9       192.0   \n",
       "\n",
       "                                 time  \n",
       "0                                      \n",
       "2017-11-29 09:35:00.000  3.449952e+10  \n",
       "2017-11-29 09:35:00.200  3.449952e+10  \n",
       "2017-11-29 09:35:00.400  3.449952e+10  \n",
       "2017-11-29 09:35:00.600  3.449952e+10  \n",
       "2017-11-29 09:35:00.800  3.449952e+10  \n",
       "\n",
       "[5 rows x 21 columns]"
      ]
     },
     "metadata": {},
     "output_type": "display_data"
    },
    {
     "name": "stdout",
     "output_type": "stream",
     "text": [
      "103501\n"
     ]
    },
    {
     "data": {
      "text/plain": [
       "<matplotlib.axes._subplots.AxesSubplot at 0x7f3b549fae90>"
      ]
     },
     "execution_count": 6,
     "metadata": {},
     "output_type": "execute_result"
    }
   ],
   "source": [
    "df_interval = getIntervalBookInfo(df, \"09:35\", \"15:20\")\n",
    "display(df_interval[:5])\n",
    "print len(df_interval)\n",
    "df_interval.ask_prc_0.plot()"
   ]
  },
  {
   "cell_type": "code",
   "execution_count": null,
   "metadata": {
    "collapsed": true
   },
   "outputs": [],
   "source": [
    "## get book features\n",
    "def getAskBidFeatures(df, min_price = 1075, tick_size = 0.1, array_size = 160, delta = 0.01):\n",
    "    \n",
    "    ## Ask levels\n",
    "    ask_prc_feat = df[['ask_prc_{0}'.format(str(i)) for i in range(5)]].as_matrix()\n",
    "    ask_size_feat = df[['ask_size_{0}'.format(str(i)) for i in range(5)]].as_matrix()\n",
    "    assert(ask_prc_feat.max() < min_price + tick_size*array_size)\n",
    "    ask_prc_feat = (ask_prc_feat - min_price + delta)/tick_size\n",
    "    ask_prc_feat = ask_prc_feat.astype(np.int16)\n",
    "    ask_prc_feat[ask_prc_feat < 0] = 0\n",
    "    ask_size_feat = np.log(ask_size_feat + 1.)\n",
    "    ask_book = toImage(ask_prc_feat, ask_size_feat, array_size=array_size)\n",
    "    \n",
    "    ## Bid levels\n",
    "    bid_prc_feat = df[['bid_prc_{0}'.format(str(i)) for i in range(5)]].as_matrix()\n",
    "    bid_size_feat = df[['bid_size_{0}'.format(str(i)) for i in range(5)]].as_matrix()\n",
    "    assert(bid_prc_feat.max() < min_price + tick_size*array_size)\n",
    "    bid_prc_feat = (bid_prc_feat - min_price + delta)/tick_size\n",
    "    bid_prc_feat = bid_prc_feat.astype(np.int16)\n",
    "    bid_prc_feat[bid_prc_feat < 0] = 0\n",
    "    bid_size_feat = np.log(bid_size_feat + 1.)\n",
    "    bid_book = toImage(bid_prc_feat, bid_size_feat, array_size=array_size)\n",
    "    \n",
    "    return ask_book, bid_book"
   ]
  },
  {
   "cell_type": "code",
   "execution_count": null,
   "metadata": {
    "collapsed": true
   },
   "outputs": [],
   "source": [
    "ask_book_feat, bid_book_feat = getAskBidFeatures(df_interval)"
   ]
  },
  {
   "cell_type": "markdown",
   "metadata": {},
   "source": [
    "##### Visualize the book features:\n",
    "- ASK"
   ]
  },
  {
   "cell_type": "code",
   "execution_count": null,
   "metadata": {},
   "outputs": [],
   "source": [
    "plt.pcolormesh(ask_book_feat.transpose(), cmap='PuBu_r')"
   ]
  },
  {
   "cell_type": "markdown",
   "metadata": {},
   "source": [
    "- BID"
   ]
  },
  {
   "cell_type": "code",
   "execution_count": null,
   "metadata": {},
   "outputs": [],
   "source": [
    "plt.pcolormesh(bid_book_feat.transpose(), cmap='PuBu_r')"
   ]
  },
  {
   "cell_type": "markdown",
   "metadata": {},
   "source": [
    "- Target (MID PRICE)"
   ]
  },
  {
   "cell_type": "code",
   "execution_count": null,
   "metadata": {},
   "outputs": [],
   "source": [
    "df_interval['target'] = (df_interval.ask_prc_0 + df_interval.bid_prc_0)/2.\n",
    "df_interval.target.plot()"
   ]
  },
  {
   "cell_type": "code",
   "execution_count": null,
   "metadata": {},
   "outputs": [],
   "source": [
    "print ask_book_feat.shape, ask_book_feat.max()\n",
    "print bid_book_feat.shape, bid_book_feat.max()"
   ]
  },
  {
   "cell_type": "code",
   "execution_count": null,
   "metadata": {},
   "outputs": [],
   "source": [
    "raw_y = df_interval.target.as_matrix()\n",
    "print raw_y.shape"
   ]
  },
  {
   "cell_type": "markdown",
   "metadata": {},
   "source": [
    "###### Using Lookback = 30 (: 6s)"
   ]
  },
  {
   "cell_type": "code",
   "execution_count": null,
   "metadata": {},
   "outputs": [],
   "source": [
    "LOOK_BACK = 32\n",
    "%time raw_x_ask = np.array([ask_book_feat[i: i+LOOK_BACK] for i in range(len(ask_book_feat) - 300)])\n",
    "%time raw_x_bid = np.array([bid_book_feat[i: i+LOOK_BACK] for i in range(len(bid_book_feat) - 300)])\n",
    "print raw_x_ask.shape\n",
    "print raw_x_bid.shape"
   ]
  },
  {
   "cell_type": "code",
   "execution_count": null,
   "metadata": {},
   "outputs": [],
   "source": [
    "## reshape\n",
    "a, b, c = raw_x_ask.shape\n",
    "raw_x_ask = raw_x_ask.reshape(a, b, c, 1)\n",
    "raw_x_bid = raw_x_bid.reshape(a, b, c, 1)\n",
    "print raw_x_ask.shape\n",
    "print raw_x_bid.shape"
   ]
  },
  {
   "cell_type": "markdown",
   "metadata": {},
   "source": [
    "###### TRYing Horizon = 5 time stamp"
   ]
  },
  {
   "cell_type": "code",
   "execution_count": null,
   "metadata": {},
   "outputs": [],
   "source": [
    "HORIZON = 3\n",
    "%time y_init = raw_y[LOOK_BACK - 1: LOOK_BACK - 1 + len(ask_book_feat) - 100]\n",
    "%time y_return = raw_y[LOOK_BACK - 1 + HORIZON: LOOK_BACK - 1 + HORIZON + len(ask_book_feat) - 100]\n",
    "raw_y = (y_return > y_init)*1 + (y_return < y_init)*2\n",
    "raw_y = raw_y.astype(np.int16)\n",
    "print raw_y.shape\n",
    "print raw_y[:100]"
   ]
  },
  {
   "cell_type": "code",
   "execution_count": null,
   "metadata": {
    "collapsed": true
   },
   "outputs": [],
   "source": [
    "#KERAS MODEL DEFINITION\n",
    "from keras.layers import Input, Dropout, Dense, Activation, concatenate, GRU, Embedding, Flatten\n",
    "from keras.layers import Flatten, Conv2D, MaxPooling2D, Reshape\n",
    "from keras.models import Model\n",
    "from keras.callbacks import ModelCheckpoint, Callback, EarlyStopping\n",
    "from keras import backend as K\n",
    "from keras.optimizers import SGD, Adam, RMSprop\n",
    "from sklearn.preprocessing import LabelEncoder, MinMaxScaler, StandardScaler"
   ]
  },
  {
   "cell_type": "code",
   "execution_count": null,
   "metadata": {
    "collapsed": true
   },
   "outputs": [],
   "source": [
    "# Splitting train and test sets\n",
    "N_train = int(len(raw_y)*0.8)\n",
    "N_test = len(raw_y) - N_train\n",
    "train_ask = raw_x_ask[: N_train]\n",
    "test_ask = raw_x_ask[N_train:]\n",
    "train_bid = raw_x_bid[: N_train]\n",
    "test_bid = raw_x_bid[N_train:]\n",
    "train_y = raw_y[: N_train]\n",
    "test_y = raw_y[N_train:]"
   ]
  },
  {
   "cell_type": "code",
   "execution_count": null,
   "metadata": {},
   "outputs": [],
   "source": [
    "print train_y.max(), train_y.min()\n",
    "print train_y[:100]\n",
    "print list(train_y).count(0)/1./len(train_y), list(test_y).count(0)/1./len(test_y)"
   ]
  },
  {
   "cell_type": "markdown",
   "metadata": {},
   "source": [
    "Since the target classes are highly imbalanced, we need to reweight the objective function to improve the training"
   ]
  },
  {
   "cell_type": "code",
   "execution_count": null,
   "metadata": {
    "collapsed": true
   },
   "outputs": [],
   "source": [
    "# Function to compute class weights\n",
    "def comp_cls_wts(y, pwr = 0.5):\n",
    "    '''\n",
    "    Used to compute class weights\n",
    "    '''\n",
    "    dic = {}\n",
    "    for x in set(y):\n",
    "        dic[x] = len(y)**pwr/list(y).count(x)**pwr\n",
    "    return dic"
   ]
  },
  {
   "cell_type": "code",
   "execution_count": null,
   "metadata": {},
   "outputs": [],
   "source": [
    "cls_weight = comp_cls_wts(train_y, pwr = 1.0)\n",
    "print cls_weight\n",
    "train_y = np_utils.to_categorical(train_y, num_classes=3)\n",
    "test_y = np_utils.to_categorical(test_y, num_classes=3)\n",
    "print train_y.shape, test_y.shape"
   ]
  },
  {
   "cell_type": "code",
   "execution_count": null,
   "metadata": {},
   "outputs": [],
   "source": [
    "## Constructing Model\n",
    "#Inputs\n",
    "ask_book = Input(shape=train_ask.shape[1:], name=\"ask_book\")\n",
    "bid_book = Input(shape=train_bid.shape[1:], name=\"bid_book\")\n",
    "\n",
    "# 2D convs\n",
    "ask_conv = Conv2D(8, kernel_size=(7, 7), padding='same', activation='relu')(ask_book)\n",
    "ask_conv = MaxPooling2D(pool_size = (2, 2)) (ask_conv)\n",
    "ask_conv = Dropout(0.25) (ask_conv)\n",
    "ask_conv = Conv2D(16, kernel_size=(5, 5), padding='same', activation='relu')(ask_conv)\n",
    "ask_conv = MaxPooling2D(pool_size = (2, 2)) (ask_conv)\n",
    "ask_conv = Dropout(0.25) (ask_conv)\n",
    "ask_conv = Conv2D(32, kernel_size=(3, 3), padding='same', activation='relu')(ask_conv)\n",
    "ask_conv = MaxPooling2D(pool_size = (2, 2)) (ask_conv)\n",
    "ask_conv = Dropout(0.25) (ask_conv)\n",
    "\n",
    "bid_conv = Conv2D(8, kernel_size=(7, 7), padding='same', activation='relu')(bid_book)\n",
    "bid_conv = MaxPooling2D(pool_size = (2, 2)) (bid_conv)\n",
    "bid_conv = Dropout(0.25) (bid_conv)\n",
    "bid_conv = Conv2D(16, kernel_size=(5, 5), padding='same', activation='relu')(bid_conv)\n",
    "bid_conv = MaxPooling2D(pool_size = (2, 2)) (bid_conv)\n",
    "bid_conv = Dropout(0.25) (bid_conv)\n",
    "bid_conv = Conv2D(32, kernel_size=(3, 3), padding='same', activation='relu')(bid_conv)\n",
    "bid_conv = MaxPooling2D(pool_size = (2, 2)) (bid_conv)\n",
    "bid_conv = Dropout(0.25) (bid_conv)\n",
    "\n",
    "main_layer = concatenate([\n",
    "    Flatten() (ask_conv),\n",
    "    Flatten() (bid_conv),\n",
    "])\n",
    "main_layer = Dropout(0.5) (Dense(128, activation = 'relu') (main_layer))\n",
    "output = Dense(3, activation=\"softmax\") (main_layer)\n",
    "model = Model([ask_book, bid_book], output)\n",
    "model.summary()"
   ]
  },
  {
   "cell_type": "code",
   "execution_count": null,
   "metadata": {
    "collapsed": true
   },
   "outputs": [],
   "source": [
    "# Split train into tr and cv\n",
    "N_tr = int(len(train_y)*0.8)\n",
    "tr_ask = train_ask[:N_tr]\n",
    "cv_ask = train_ask[N_tr:]\n",
    "tr_bid = train_bid[:N_tr]\n",
    "cv_bid = train_bid[N_tr:]\n",
    "tr_y = train_y[:N_tr]\n",
    "cv_y = train_y[N_tr:]"
   ]
  },
  {
   "cell_type": "code",
   "execution_count": null,
   "metadata": {
    "collapsed": true
   },
   "outputs": [],
   "source": [
    "#model\n",
    "learning_rate = 0.2\n",
    "optimizer = SGD(learning_rate)\n",
    "loss = 'categorical_crossentropy'\n",
    "metrics = ['accuracy']\n",
    "model.compile(optimizer=optimizer, loss=loss, metrics=metrics)"
   ]
  },
  {
   "cell_type": "code",
   "execution_count": null,
   "metadata": {},
   "outputs": [],
   "source": [
    "#FITTING THE MODEL\n",
    "BATCH_SIZE  =  256\n",
    "epochs = 10\n",
    "model.fit([tr_ask[:10], tr_bid[:10]], tr_y[:10], epochs=epochs, batch_size=BATCH_SIZE\n",
    "          , validation_data=([cv_ask[:10], cv_bid[:10]], cv_y[:10])\n",
    "          , verbose=1, class_weight = cls_weight)"
   ]
  },
  {
   "cell_type": "code",
   "execution_count": null,
   "metadata": {
    "collapsed": true
   },
   "outputs": [],
   "source": [
    "#CREATE PREDICTIONS\n",
    "preds = model.predict([test_ask, test_bid], batch_size=BATCH_SIZE, verbose = 1)"
   ]
  },
  {
   "cell_type": "code",
   "execution_count": null,
   "metadata": {
    "collapsed": true
   },
   "outputs": [],
   "source": [
    "pred_cls = np.argmax(preds, axis=1)\n",
    "test_cls = np.argmax(test_y, axis=1)\n",
    "# show results\n",
    "fig, ax = plt.subplots(1,1, figsize = (6, 6))\n",
    "ax.plot(test_cls)\n",
    "ax.plot(pred_cls)"
   ]
  },
  {
   "cell_type": "code",
   "execution_count": null,
   "metadata": {
    "collapsed": true
   },
   "outputs": [],
   "source": [
    "print model.lr.get_value()"
   ]
  },
  {
   "cell_type": "code",
   "execution_count": null,
   "metadata": {
    "collapsed": true
   },
   "outputs": [],
   "source": []
  }
 ],
 "metadata": {
  "kernelspec": {
   "display_name": "Python 2",
   "language": "python",
   "name": "python2"
  },
  "language_info": {
   "codemirror_mode": {
    "name": "ipython",
    "version": 2
   },
   "file_extension": ".py",
   "mimetype": "text/x-python",
   "name": "python",
   "nbconvert_exporter": "python",
   "pygments_lexer": "ipython2",
   "version": "2.7.13"
  }
 },
 "nbformat": 4,
 "nbformat_minor": 2
}
