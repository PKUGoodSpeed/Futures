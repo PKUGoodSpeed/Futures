{
 "cells": [
  {
   "cell_type": "code",
   "execution_count": 234,
   "metadata": {},
   "outputs": [],
   "source": [
    "# Basic\n",
    "import numpy as np\n",
    "import pandas as pd\n",
    "\n",
    "# Load market data\n",
    "import gsampler as gs\n",
    "\n",
    "# Visualization\n",
    "from IPython.display import display\n",
    "%matplotlib inline\n",
    "import matplotlib.pyplot as plt"
   ]
  },
  {
   "cell_type": "code",
   "execution_count": 235,
   "metadata": {
    "collapsed": true
   },
   "outputs": [],
   "source": [
    "def get_dataframe(symbol, colo, date):\n",
    "    '''\n",
    "    Obtaining a dataframe directly from gsampler:\n",
    "    The dataframe contains:\n",
    "        ask_book_price, ask_book_size from level 1 to level 4\n",
    "        bid_book_price, bid_book_size from level 1 to level 4\n",
    "    '''\n",
    "    dates = [date]\n",
    "    features = []\n",
    "    for i in range(3):\n",
    "        features.append(gs.FeatureAskPrice(symbol = symbol, level = i))\n",
    "        features.append(gs.FeatureAskQty(symbol = symbol, level = i))\n",
    "    for i in range(3):\n",
    "        features.append(gs.FeatureBidPrice(symbol = symbol, level = i))\n",
    "        features.append(gs.FeatureBidQty(symbol = symbol, level = i))\n",
    "    features.append(gs.FeatureTickerIdCast())\n",
    "    sampler = gs.SamplerRunner(features = features, dates = dates, colo = colo, cb_version = 'v2')\n",
    "    sampler.run()\n",
    "    df = sampler.load_data_df()\n",
    "    df = df.between_time(start_time='09:02:00', end_time='15:33:00')\n",
    "    df = df.fillna(0.)\n",
    "    df.columns = ['ask_prc_0', 'ask_size_0', \n",
    "                  'ask_prc_1', 'ask_size_1', \n",
    "                  'ask_prc_2', 'ask_size_2', \n",
    "                  'bid_prc_0', 'bid_size_0', \n",
    "                  'bid_prc_1', 'bid_size_1', \n",
    "                  'bid_prc_2', 'bid_size_2',\n",
    "                  'a', 'b', 'time']\n",
    "    df.drop('a', axis=1, inplace=True)\n",
    "    df.drop('b', axis=1, inplace=True) \n",
    "    return df"
   ]
  },
  {
   "cell_type": "code",
   "execution_count": 236,
   "metadata": {},
   "outputs": [
    {
     "name": "stdout",
     "output_type": "stream",
     "text": [
      "DEBUG(PY: /ginkgo/Json.py:128:save) Writing file: /cache/zebo/5c29e730c5e64d1dd837906db638c2c301c7e97c/f8a925cd79afd73b0ae0448e76b452c4e947f226.json\n",
      "DEBUG(PY: /ginkgo/Json.py:128:save) Writing file: /cache/zebo/5c29e730c5e64d1dd837906db638c2c301c7e97c/f8a925cd79afd73b0ae0448e76b452c4e947f226.json\n",
      "\u001b[96m*** All 1 day(s) have been sampled, clear_cache to resample OR add more days \u001b[0m \n",
      "reading date=20171129 started\n"
     ]
    },
    {
     "data": {
      "text/html": [
       "<div>\n",
       "<table border=\"1\" class=\"dataframe\">\n",
       "  <thead>\n",
       "    <tr style=\"text-align: right;\">\n",
       "      <th></th>\n",
       "      <th>ask_prc_0</th>\n",
       "      <th>ask_size_0</th>\n",
       "      <th>ask_prc_1</th>\n",
       "      <th>ask_size_1</th>\n",
       "      <th>ask_prc_2</th>\n",
       "      <th>ask_size_2</th>\n",
       "      <th>bid_prc_0</th>\n",
       "      <th>bid_size_0</th>\n",
       "      <th>bid_prc_1</th>\n",
       "      <th>bid_size_1</th>\n",
       "      <th>bid_prc_2</th>\n",
       "      <th>bid_size_2</th>\n",
       "      <th>time</th>\n",
       "    </tr>\n",
       "    <tr>\n",
       "      <th>time</th>\n",
       "      <th></th>\n",
       "      <th></th>\n",
       "      <th></th>\n",
       "      <th></th>\n",
       "      <th></th>\n",
       "      <th></th>\n",
       "      <th></th>\n",
       "      <th></th>\n",
       "      <th></th>\n",
       "      <th></th>\n",
       "      <th></th>\n",
       "      <th></th>\n",
       "      <th></th>\n",
       "    </tr>\n",
       "  </thead>\n",
       "  <tbody>\n",
       "    <tr>\n",
       "      <th>2017-11-29 09:02:00.016377</th>\n",
       "      <td>1084.2</td>\n",
       "      <td>30.0</td>\n",
       "      <td>1084.3</td>\n",
       "      <td>275.0</td>\n",
       "      <td>1084.4</td>\n",
       "      <td>99.0</td>\n",
       "      <td>1084.1</td>\n",
       "      <td>90.0</td>\n",
       "      <td>1084.0</td>\n",
       "      <td>82.0</td>\n",
       "      <td>1083.9</td>\n",
       "      <td>160.0</td>\n",
       "      <td>3.252002e+10</td>\n",
       "    </tr>\n",
       "    <tr>\n",
       "      <th>2017-11-29 09:02:00.018001</th>\n",
       "      <td>1084.2</td>\n",
       "      <td>30.0</td>\n",
       "      <td>1084.3</td>\n",
       "      <td>275.0</td>\n",
       "      <td>1084.4</td>\n",
       "      <td>99.0</td>\n",
       "      <td>1084.1</td>\n",
       "      <td>95.0</td>\n",
       "      <td>1084.0</td>\n",
       "      <td>82.0</td>\n",
       "      <td>1083.9</td>\n",
       "      <td>160.0</td>\n",
       "      <td>3.252002e+10</td>\n",
       "    </tr>\n",
       "  </tbody>\n",
       "</table>\n",
       "</div>"
      ],
      "text/plain": [
       "                            ask_prc_0  ask_size_0  ask_prc_1  ask_size_1  \\\n",
       "time                                                                       \n",
       "2017-11-29 09:02:00.016377     1084.2        30.0     1084.3       275.0   \n",
       "2017-11-29 09:02:00.018001     1084.2        30.0     1084.3       275.0   \n",
       "\n",
       "                            ask_prc_2  ask_size_2  bid_prc_0  bid_size_0  \\\n",
       "time                                                                       \n",
       "2017-11-29 09:02:00.016377     1084.4        99.0     1084.1        90.0   \n",
       "2017-11-29 09:02:00.018001     1084.4        99.0     1084.1        95.0   \n",
       "\n",
       "                            bid_prc_1  bid_size_1  bid_prc_2  bid_size_2  \\\n",
       "time                                                                       \n",
       "2017-11-29 09:02:00.016377     1084.0        82.0     1083.9       160.0   \n",
       "2017-11-29 09:02:00.018001     1084.0        82.0     1083.9       160.0   \n",
       "\n",
       "                                    time  \n",
       "time                                      \n",
       "2017-11-29 09:02:00.016377  3.252002e+10  \n",
       "2017-11-29 09:02:00.018001  3.252002e+10  "
      ]
     },
     "metadata": {},
     "output_type": "display_data"
    },
    {
     "data": {
      "text/plain": [
       "<matplotlib.axes._subplots.AxesSubplot at 0x7fa6c75d21d0>"
      ]
     },
     "execution_count": 236,
     "metadata": {},
     "output_type": "execute_result"
    },
    {
     "data": {
      "image/png": "[encoded data removed]",
      "text/plain": [
       "<matplotlib.figure.Figure at 0x7fa6c3acab50>"
      ]
     },
     "metadata": {},
     "output_type": "display_data"
    }
   ],
   "source": [
    "df = get_dataframe('KRW_G0.KRX', 'KRX', '20171129')\n",
    "display(df[:2])\n",
    "df.ask_prc_0.plot()"
   ]
  },
  {
   "cell_type": "markdown",
   "metadata": {},
   "source": [
    "##### Get the max, min prices"
   ]
  },
  {
   "cell_type": "code",
   "execution_count": 237,
   "metadata": {},
   "outputs": [
    {
     "name": "stdout",
     "output_type": "stream",
     "text": [
      "MAX_ASK_LEVEL_PRICE:  1085.0\n",
      "MIN_ASK_LEVEL_PRICE:  1076.2\n"
     ]
    }
   ],
   "source": [
    "ap_df =  df[['ask_prc_0', 'ask_prc_1', 'ask_prc_2']]\n",
    "print \"MAX_ASK_LEVEL_PRICE: \", ap_df.as_matrix().max()\n",
    "print \"MIN_ASK_LEVEL_PRICE: \", ap_df.as_matrix().min()"
   ]
  },
  {
   "cell_type": "code",
   "execution_count": 238,
   "metadata": {},
   "outputs": [
    {
     "name": "stdout",
     "output_type": "stream",
     "text": [
      "MAX_BID_LEVEL_PRICE:  1084.7\n",
      "MIN_BID_LEVEL_PRICE:  1075.9\n"
     ]
    }
   ],
   "source": [
    "bp_df =  df[['bid_prc_0', 'bid_prc_1', 'bid_prc_2']]\n",
    "print \"MAX_BID_LEVEL_PRICE: \", bp_df.as_matrix().max()\n",
    "print \"MIN_BID_LEVEL_PRICE: \", bp_df.as_matrix().min()"
   ]
  },
  {
   "cell_type": "markdown",
   "metadata": {},
   "source": [
    "##### Set base price and convert prices into levels"
   ]
  },
  {
   "cell_type": "code",
   "execution_count": 239,
   "metadata": {},
   "outputs": [
    {
     "data": {
      "text/html": [
       "<div>\n",
       "<table border=\"1\" class=\"dataframe\">\n",
       "  <thead>\n",
       "    <tr style=\"text-align: right;\">\n",
       "      <th></th>\n",
       "      <th>ask_prc_0</th>\n",
       "      <th>ask_size_0</th>\n",
       "      <th>ask_prc_1</th>\n",
       "      <th>ask_size_1</th>\n",
       "      <th>ask_prc_2</th>\n",
       "      <th>ask_size_2</th>\n",
       "      <th>bid_prc_0</th>\n",
       "      <th>bid_size_0</th>\n",
       "      <th>bid_prc_1</th>\n",
       "      <th>bid_size_1</th>\n",
       "      <th>bid_prc_2</th>\n",
       "      <th>bid_size_2</th>\n",
       "      <th>time</th>\n",
       "    </tr>\n",
       "    <tr>\n",
       "      <th>time</th>\n",
       "      <th></th>\n",
       "      <th></th>\n",
       "      <th></th>\n",
       "      <th></th>\n",
       "      <th></th>\n",
       "      <th></th>\n",
       "      <th></th>\n",
       "      <th></th>\n",
       "      <th></th>\n",
       "      <th></th>\n",
       "      <th></th>\n",
       "      <th></th>\n",
       "      <th></th>\n",
       "    </tr>\n",
       "  </thead>\n",
       "  <tbody>\n",
       "    <tr>\n",
       "      <th>2017-11-29 09:02:00.016377</th>\n",
       "      <td>142</td>\n",
       "      <td>30.0</td>\n",
       "      <td>143</td>\n",
       "      <td>275.0</td>\n",
       "      <td>144</td>\n",
       "      <td>99.0</td>\n",
       "      <td>141</td>\n",
       "      <td>90.0</td>\n",
       "      <td>140</td>\n",
       "      <td>82.0</td>\n",
       "      <td>139</td>\n",
       "      <td>160.0</td>\n",
       "      <td>3.252002e+10</td>\n",
       "    </tr>\n",
       "    <tr>\n",
       "      <th>2017-11-29 09:02:00.018001</th>\n",
       "      <td>142</td>\n",
       "      <td>30.0</td>\n",
       "      <td>143</td>\n",
       "      <td>275.0</td>\n",
       "      <td>144</td>\n",
       "      <td>99.0</td>\n",
       "      <td>141</td>\n",
       "      <td>95.0</td>\n",
       "      <td>140</td>\n",
       "      <td>82.0</td>\n",
       "      <td>139</td>\n",
       "      <td>160.0</td>\n",
       "      <td>3.252002e+10</td>\n",
       "    </tr>\n",
       "    <tr>\n",
       "      <th>2017-11-29 09:02:00.018627</th>\n",
       "      <td>142</td>\n",
       "      <td>30.0</td>\n",
       "      <td>143</td>\n",
       "      <td>275.0</td>\n",
       "      <td>144</td>\n",
       "      <td>99.0</td>\n",
       "      <td>141</td>\n",
       "      <td>95.0</td>\n",
       "      <td>140</td>\n",
       "      <td>87.0</td>\n",
       "      <td>139</td>\n",
       "      <td>160.0</td>\n",
       "      <td>3.252002e+10</td>\n",
       "    </tr>\n",
       "  </tbody>\n",
       "</table>\n",
       "</div>"
      ],
      "text/plain": [
       "                            ask_prc_0  ask_size_0  ask_prc_1  ask_size_1  \\\n",
       "time                                                                       \n",
       "2017-11-29 09:02:00.016377        142        30.0        143       275.0   \n",
       "2017-11-29 09:02:00.018001        142        30.0        143       275.0   \n",
       "2017-11-29 09:02:00.018627        142        30.0        143       275.0   \n",
       "\n",
       "                            ask_prc_2  ask_size_2  bid_prc_0  bid_size_0  \\\n",
       "time                                                                       \n",
       "2017-11-29 09:02:00.016377        144        99.0        141        90.0   \n",
       "2017-11-29 09:02:00.018001        144        99.0        141        95.0   \n",
       "2017-11-29 09:02:00.018627        144        99.0        141        95.0   \n",
       "\n",
       "                            bid_prc_1  bid_size_1  bid_prc_2  bid_size_2  \\\n",
       "time                                                                       \n",
       "2017-11-29 09:02:00.016377        140        82.0        139       160.0   \n",
       "2017-11-29 09:02:00.018001        140        82.0        139       160.0   \n",
       "2017-11-29 09:02:00.018627        140        87.0        139       160.0   \n",
       "\n",
       "                                    time  \n",
       "time                                      \n",
       "2017-11-29 09:02:00.016377  3.252002e+10  \n",
       "2017-11-29 09:02:00.018001  3.252002e+10  \n",
       "2017-11-29 09:02:00.018627  3.252002e+10  "
      ]
     },
     "metadata": {},
     "output_type": "display_data"
    }
   ],
   "source": [
    "BASE_PRICE = 1070.0\n",
    "DELTA = 0.001\n",
    "TICK_SIZE = 0.1\n",
    "for i in range(3):\n",
    "    df[\"ask_prc_{0}\".format(str(i))] = ((df[\"ask_prc_{0}\".format(str(i))].as_matrix() + \n",
    "                                        DELTA - BASE_PRICE)/TICK_SIZE).astype(np.int32)\n",
    "    df[\"bid_prc_{0}\".format(str(i))] = ((df[\"bid_prc_{0}\".format(str(i))].as_matrix() + \n",
    "                                        DELTA - BASE_PRICE)/TICK_SIZE).astype(np.int32)\n",
    "display(df[:3])"
   ]
  },
  {
   "cell_type": "markdown",
   "metadata": {},
   "source": [
    "##### Convert volumes in to integers"
   ]
  },
  {
   "cell_type": "code",
   "execution_count": 240,
   "metadata": {},
   "outputs": [
    {
     "data": {
      "text/html": [
       "<div>\n",
       "<table border=\"1\" class=\"dataframe\">\n",
       "  <thead>\n",
       "    <tr style=\"text-align: right;\">\n",
       "      <th></th>\n",
       "      <th>ask_prc_0</th>\n",
       "      <th>ask_size_0</th>\n",
       "      <th>ask_prc_1</th>\n",
       "      <th>ask_size_1</th>\n",
       "      <th>ask_prc_2</th>\n",
       "      <th>ask_size_2</th>\n",
       "      <th>bid_prc_0</th>\n",
       "      <th>bid_size_0</th>\n",
       "      <th>bid_prc_1</th>\n",
       "      <th>bid_size_1</th>\n",
       "      <th>bid_prc_2</th>\n",
       "      <th>bid_size_2</th>\n",
       "      <th>time</th>\n",
       "    </tr>\n",
       "    <tr>\n",
       "      <th>time</th>\n",
       "      <th></th>\n",
       "      <th></th>\n",
       "      <th></th>\n",
       "      <th></th>\n",
       "      <th></th>\n",
       "      <th></th>\n",
       "      <th></th>\n",
       "      <th></th>\n",
       "      <th></th>\n",
       "      <th></th>\n",
       "      <th></th>\n",
       "      <th></th>\n",
       "      <th></th>\n",
       "    </tr>\n",
       "  </thead>\n",
       "  <tbody>\n",
       "    <tr>\n",
       "      <th>2017-11-29 09:02:00.016377</th>\n",
       "      <td>142</td>\n",
       "      <td>30</td>\n",
       "      <td>143</td>\n",
       "      <td>275</td>\n",
       "      <td>144</td>\n",
       "      <td>99</td>\n",
       "      <td>141</td>\n",
       "      <td>90</td>\n",
       "      <td>140</td>\n",
       "      <td>82</td>\n",
       "      <td>139</td>\n",
       "      <td>160</td>\n",
       "      <td>3.252002e+10</td>\n",
       "    </tr>\n",
       "    <tr>\n",
       "      <th>2017-11-29 09:02:00.018001</th>\n",
       "      <td>142</td>\n",
       "      <td>30</td>\n",
       "      <td>143</td>\n",
       "      <td>275</td>\n",
       "      <td>144</td>\n",
       "      <td>99</td>\n",
       "      <td>141</td>\n",
       "      <td>95</td>\n",
       "      <td>140</td>\n",
       "      <td>82</td>\n",
       "      <td>139</td>\n",
       "      <td>160</td>\n",
       "      <td>3.252002e+10</td>\n",
       "    </tr>\n",
       "    <tr>\n",
       "      <th>2017-11-29 09:02:00.018627</th>\n",
       "      <td>142</td>\n",
       "      <td>30</td>\n",
       "      <td>143</td>\n",
       "      <td>275</td>\n",
       "      <td>144</td>\n",
       "      <td>99</td>\n",
       "      <td>141</td>\n",
       "      <td>95</td>\n",
       "      <td>140</td>\n",
       "      <td>87</td>\n",
       "      <td>139</td>\n",
       "      <td>160</td>\n",
       "      <td>3.252002e+10</td>\n",
       "    </tr>\n",
       "  </tbody>\n",
       "</table>\n",
       "</div>"
      ],
      "text/plain": [
       "                            ask_prc_0  ask_size_0  ask_prc_1  ask_size_1  \\\n",
       "time                                                                       \n",
       "2017-11-29 09:02:00.016377        142          30        143         275   \n",
       "2017-11-29 09:02:00.018001        142          30        143         275   \n",
       "2017-11-29 09:02:00.018627        142          30        143         275   \n",
       "\n",
       "                            ask_prc_2  ask_size_2  bid_prc_0  bid_size_0  \\\n",
       "time                                                                       \n",
       "2017-11-29 09:02:00.016377        144          99        141          90   \n",
       "2017-11-29 09:02:00.018001        144          99        141          95   \n",
       "2017-11-29 09:02:00.018627        144          99        141          95   \n",
       "\n",
       "                            bid_prc_1  bid_size_1  bid_prc_2  bid_size_2  \\\n",
       "time                                                                       \n",
       "2017-11-29 09:02:00.016377        140          82        139         160   \n",
       "2017-11-29 09:02:00.018001        140          82        139         160   \n",
       "2017-11-29 09:02:00.018627        140          87        139         160   \n",
       "\n",
       "                                    time  \n",
       "time                                      \n",
       "2017-11-29 09:02:00.016377  3.252002e+10  \n",
       "2017-11-29 09:02:00.018001  3.252002e+10  \n",
       "2017-11-29 09:02:00.018627  3.252002e+10  "
      ]
     },
     "metadata": {},
     "output_type": "display_data"
    }
   ],
   "source": [
    "for i in range(3):\n",
    "    df[\"ask_size_{0}\".format(str(i))] = df[\"ask_size_{0}\".format(str(i))].as_matrix().astype(np.int32)\n",
    "    df[\"bid_size_{0}\".format(str(i))] = df[\"bid_size_{0}\".format(str(i))].as_matrix().astype(np.int32)\n",
    "display(df[:3])"
   ]
  },
  {
   "cell_type": "markdown",
   "metadata": {},
   "source": [
    "##### Parse them into intervals"
   ]
  },
  {
   "cell_type": "code",
   "execution_count": 241,
   "metadata": {},
   "outputs": [
    {
     "data": {
      "text/html": [
       "<div>\n",
       "<table border=\"1\" class=\"dataframe\">\n",
       "  <thead>\n",
       "    <tr style=\"text-align: right;\">\n",
       "      <th></th>\n",
       "      <th>ask_prc_0</th>\n",
       "      <th>ask_size_0</th>\n",
       "      <th>ask_prc_1</th>\n",
       "      <th>ask_size_1</th>\n",
       "      <th>ask_prc_2</th>\n",
       "      <th>ask_size_2</th>\n",
       "      <th>bid_prc_0</th>\n",
       "      <th>bid_size_0</th>\n",
       "      <th>bid_prc_1</th>\n",
       "      <th>bid_size_1</th>\n",
       "      <th>bid_prc_2</th>\n",
       "      <th>bid_size_2</th>\n",
       "      <th>time</th>\n",
       "    </tr>\n",
       "    <tr>\n",
       "      <th>0</th>\n",
       "      <th></th>\n",
       "      <th></th>\n",
       "      <th></th>\n",
       "      <th></th>\n",
       "      <th></th>\n",
       "      <th></th>\n",
       "      <th></th>\n",
       "      <th></th>\n",
       "      <th></th>\n",
       "      <th></th>\n",
       "      <th></th>\n",
       "      <th></th>\n",
       "      <th></th>\n",
       "    </tr>\n",
       "  </thead>\n",
       "  <tbody>\n",
       "    <tr>\n",
       "      <th>2017-11-30 09:02:00.000</th>\n",
       "      <td>66</td>\n",
       "      <td>67</td>\n",
       "      <td>67</td>\n",
       "      <td>264</td>\n",
       "      <td>68</td>\n",
       "      <td>214</td>\n",
       "      <td>65</td>\n",
       "      <td>87</td>\n",
       "      <td>64</td>\n",
       "      <td>162</td>\n",
       "      <td>63</td>\n",
       "      <td>234</td>\n",
       "      <td>-2147483648</td>\n",
       "    </tr>\n",
       "    <tr>\n",
       "      <th>2017-11-30 09:02:00.500</th>\n",
       "      <td>66</td>\n",
       "      <td>67</td>\n",
       "      <td>67</td>\n",
       "      <td>264</td>\n",
       "      <td>68</td>\n",
       "      <td>214</td>\n",
       "      <td>65</td>\n",
       "      <td>87</td>\n",
       "      <td>64</td>\n",
       "      <td>162</td>\n",
       "      <td>63</td>\n",
       "      <td>234</td>\n",
       "      <td>-2147483648</td>\n",
       "    </tr>\n",
       "    <tr>\n",
       "      <th>2017-11-30 09:02:01.000</th>\n",
       "      <td>66</td>\n",
       "      <td>67</td>\n",
       "      <td>67</td>\n",
       "      <td>264</td>\n",
       "      <td>68</td>\n",
       "      <td>214</td>\n",
       "      <td>65</td>\n",
       "      <td>87</td>\n",
       "      <td>64</td>\n",
       "      <td>162</td>\n",
       "      <td>63</td>\n",
       "      <td>234</td>\n",
       "      <td>-2147483648</td>\n",
       "    </tr>\n",
       "  </tbody>\n",
       "</table>\n",
       "</div>"
      ],
      "text/plain": [
       "                         ask_prc_0  ask_size_0  ask_prc_1  ask_size_1  \\\n",
       "0                                                                       \n",
       "2017-11-30 09:02:00.000         66          67         67         264   \n",
       "2017-11-30 09:02:00.500         66          67         67         264   \n",
       "2017-11-30 09:02:01.000         66          67         67         264   \n",
       "\n",
       "                         ask_prc_2  ask_size_2  bid_prc_0  bid_size_0  \\\n",
       "0                                                                       \n",
       "2017-11-30 09:02:00.000         68         214         65          87   \n",
       "2017-11-30 09:02:00.500         68         214         65          87   \n",
       "2017-11-30 09:02:01.000         68         214         65          87   \n",
       "\n",
       "                         bid_prc_1  bid_size_1  bid_prc_2  bid_size_2  \\\n",
       "0                                                                       \n",
       "2017-11-30 09:02:00.000         64         162         63         234   \n",
       "2017-11-30 09:02:00.500         64         162         63         234   \n",
       "2017-11-30 09:02:01.000         64         162         63         234   \n",
       "\n",
       "                               time  \n",
       "0                                    \n",
       "2017-11-30 09:02:00.000 -2147483648  \n",
       "2017-11-30 09:02:00.500 -2147483648  \n",
       "2017-11-30 09:02:01.000 -2147483648  "
      ]
     },
     "metadata": {},
     "output_type": "display_data"
    },
    {
     "name": "stdout",
     "output_type": "stream",
     "text": [
      "(46921, 13)\n"
     ]
    }
   ],
   "source": [
    "def getIntervalBookInfo(df, date, start_time, end_time, time_interval='500000U'):\n",
    "    common_tseries = pd.DataFrame(pd.date_range(\"{0} {1}\".format(date, start_time), \n",
    "                                                \"{0} {1}\".format(date, end_time), freq = time_interval))\n",
    "    common_tseries = common_tseries.set_index(common_tseries.columns.values[0])\n",
    "    common_index = common_tseries.index\n",
    "    \n",
    "    df = df.groupby(df.index).first()                                   # Remove duplicate indices\n",
    "    \n",
    "    uidx = df.index.union(common_index)                                 # We need first reindex the data on a union of indices\n",
    "    df = df.reindex(uidx)\n",
    "    df = df.ffill()                                       # Using forward fill to fill in the missing data\n",
    "    df = df.reindex(common_index)                                       # using ghe common timestamps as index\n",
    "    return df\n",
    "df_interval = getIntervalBookInfo(df, \"2017-11-30\", \"09:02\", \"15:33\")\n",
    "df_interval = pd.DataFrame(df_interval, dtype=np.int32)\n",
    "display(df_interval[:3])\n",
    "print df_interval.shape"
   ]
  },
  {
   "cell_type": "markdown",
   "metadata": {},
   "source": [
    "##### CREAT FEATURES AND TARGETS"
   ]
  },
  {
   "cell_type": "code",
   "execution_count": 242,
   "metadata": {},
   "outputs": [
    {
     "data": {
      "text/html": [
       "<div>\n",
       "<table border=\"1\" class=\"dataframe\">\n",
       "  <thead>\n",
       "    <tr style=\"text-align: right;\">\n",
       "      <th></th>\n",
       "      <th>ask_price</th>\n",
       "      <th>ask_size</th>\n",
       "      <th>bid_price</th>\n",
       "      <th>bid_size</th>\n",
       "      <th>target</th>\n",
       "    </tr>\n",
       "  </thead>\n",
       "  <tbody>\n",
       "    <tr>\n",
       "      <th>0</th>\n",
       "      <td>[142, 142, 142, 142, 142, 142, 142, 142, 142, ...</td>\n",
       "      <td>[30, 30, 30, 30, 30, 30, 30, 30, 30, 30, 35, 1...</td>\n",
       "      <td>[141, 141, 141, 141, 141, 141, 141, 141, 141, ...</td>\n",
       "      <td>[90, 95, 95, 95, 95, 95, 95, 95, 95, 95, 95, 9...</td>\n",
       "      <td>0</td>\n",
       "    </tr>\n",
       "    <tr>\n",
       "      <th>1</th>\n",
       "      <td>[142, 142, 142, 142, 142, 142, 142, 142, 142, ...</td>\n",
       "      <td>[30, 30, 30, 30, 30, 30, 30, 30, 30, 35, 15, 1...</td>\n",
       "      <td>[141, 141, 141, 141, 141, 141, 141, 141, 141, ...</td>\n",
       "      <td>[95, 95, 95, 95, 95, 95, 95, 95, 95, 95, 95, 9...</td>\n",
       "      <td>0</td>\n",
       "    </tr>\n",
       "    <tr>\n",
       "      <th>2</th>\n",
       "      <td>[142, 142, 142, 142, 142, 142, 142, 142, 142, ...</td>\n",
       "      <td>[30, 30, 30, 30, 30, 30, 30, 30, 35, 15, 15, 1...</td>\n",
       "      <td>[141, 141, 141, 141, 141, 141, 141, 141, 141, ...</td>\n",
       "      <td>[95, 95, 95, 95, 95, 95, 95, 95, 95, 95, 95, 9...</td>\n",
       "      <td>0</td>\n",
       "    </tr>\n",
       "  </tbody>\n",
       "</table>\n",
       "</div>"
      ],
      "text/plain": [
       "                                           ask_price  \\\n",
       "0  [142, 142, 142, 142, 142, 142, 142, 142, 142, ...   \n",
       "1  [142, 142, 142, 142, 142, 142, 142, 142, 142, ...   \n",
       "2  [142, 142, 142, 142, 142, 142, 142, 142, 142, ...   \n",
       "\n",
       "                                            ask_size  \\\n",
       "0  [30, 30, 30, 30, 30, 30, 30, 30, 30, 30, 35, 1...   \n",
       "1  [30, 30, 30, 30, 30, 30, 30, 30, 30, 35, 15, 1...   \n",
       "2  [30, 30, 30, 30, 30, 30, 30, 30, 35, 15, 15, 1...   \n",
       "\n",
       "                                           bid_price  \\\n",
       "0  [141, 141, 141, 141, 141, 141, 141, 141, 141, ...   \n",
       "1  [141, 141, 141, 141, 141, 141, 141, 141, 141, ...   \n",
       "2  [141, 141, 141, 141, 141, 141, 141, 141, 141, ...   \n",
       "\n",
       "                                            bid_size  target  \n",
       "0  [90, 95, 95, 95, 95, 95, 95, 95, 95, 95, 95, 9...       0  \n",
       "1  [95, 95, 95, 95, 95, 95, 95, 95, 95, 95, 95, 9...       0  \n",
       "2  [95, 95, 95, 95, 95, 95, 95, 95, 95, 95, 95, 9...       0  "
      ]
     },
     "metadata": {},
     "output_type": "display_data"
    },
    {
     "name": "stdout",
     "output_type": "stream",
     "text": [
      "(181340, 60)\n"
     ]
    }
   ],
   "source": [
    "LOOK_BACK = 60\n",
    "HORIZON = 1\n",
    "def get_windows(x):\n",
    "    return [np.array(x[i: i+LOOK_BACK]) for i in range(len(x) - LOOK_BACK - HORIZON - 10)]\n",
    "def get_target(y):\n",
    "    return [y[i + LOOK_BACK + HORIZON - 1] - y[i + LOOK_BACK - 1] for i in range(len(y) - LOOK_BACK - HORIZON - 10)]\n",
    "def get_train_data(df):\n",
    "    data = {\n",
    "        'ask_price': get_windows(df.ask_prc_0.values),\n",
    "        'ask_size': get_windows(df.ask_size_0.values),\n",
    "        'bid_price': get_windows(df.bid_prc_0.values),\n",
    "        'bid_size': get_windows(df.bid_size_0.values),\n",
    "        'target': get_target(df.ask_prc_0.values)\n",
    "    }\n",
    "    return pd.DataFrame(data)\n",
    "raw_df = get_train_data(df)\n",
    "display(raw_df[:3])\n",
    "print np.array(raw_df.ask_price.tolist()).shape"
   ]
  },
  {
   "cell_type": "code",
   "execution_count": 243,
   "metadata": {},
   "outputs": [
    {
     "name": "stdout",
     "output_type": "stream",
     "text": [
      "153 826\n"
     ]
    }
   ],
   "source": [
    "## For embedding dimension\n",
    "MAX_PRICE = df.ask_prc_0.max() + 5\n",
    "MAX_SIZE = np.max([df.ask_size_0.max(), df.bid_size_0.max()]) + 5\n",
    "print MAX_PRICE, MAX_SIZE"
   ]
  },
  {
   "cell_type": "code",
   "execution_count": 244,
   "metadata": {},
   "outputs": [],
   "source": [
    "# Using sklearn and keras\n",
    "from sklearn.preprocessing import LabelEncoder, MinMaxScaler, StandardScaler\n",
    "from sklearn.cross_validation import train_test_split\n",
    "from keras.utils import np_utils\n",
    "from keras.preprocessing.text import Tokenizer\n",
    "from keras.layers import Input, Dropout, Dense, BatchNormalization, Activation, concatenate, GRU, Embedding, Flatten, BatchNormalization\n",
    "from keras.models import Model\n",
    "from keras.callbacks import ModelCheckpoint, Callback, EarlyStopping\n",
    "from keras import backend as K\n",
    "from keras.optimizers import SGD, Adam, RMSprop\n",
    "from keras.callbacks import LearningRateScheduler\n",
    "from keras.layers.advanced_activations import LeakyReLU, PReLU\n",
    "from keras.preprocessing.sequence import pad_sequences"
   ]
  },
  {
   "cell_type": "code",
   "execution_count": 245,
   "metadata": {},
   "outputs": [
    {
     "name": "stdout",
     "output_type": "stream",
     "text": [
      "5\n",
      "[2 2 2 ..., 2 2 2]\n"
     ]
    },
    {
     "data": {
      "text/plain": [
       "4"
      ]
     },
     "execution_count": 245,
     "metadata": {},
     "output_type": "execute_result"
    }
   ],
   "source": [
    "raw_df.target = raw_df.target - raw_df.target.min()\n",
    "n_cls = raw_df.target.max() + 1\n",
    "print n_cls\n",
    "print raw_df.target.values\n",
    "max(raw_df.target.values)"
   ]
  },
  {
   "cell_type": "code",
   "execution_count": 246,
   "metadata": {},
   "outputs": [
    {
     "name": "stdout",
     "output_type": "stream",
     "text": [
      "{0: 425.8403456695948, 1: 9.255212117841745, 2: 1.0116713636169228, 3: 9.425953724991103, 4: 425.8403456695948}\n"
     ]
    },
    {
     "data": {
      "text/html": [
       "<div>\n",
       "<table border=\"1\" class=\"dataframe\">\n",
       "  <thead>\n",
       "    <tr style=\"text-align: right;\">\n",
       "      <th></th>\n",
       "      <th>ask_price</th>\n",
       "      <th>ask_size</th>\n",
       "      <th>bid_price</th>\n",
       "      <th>bid_size</th>\n",
       "      <th>target</th>\n",
       "    </tr>\n",
       "  </thead>\n",
       "  <tbody>\n",
       "    <tr>\n",
       "      <th>0</th>\n",
       "      <td>[142, 142, 142, 142, 142, 142, 142, 142, 142, ...</td>\n",
       "      <td>[30, 30, 30, 30, 30, 30, 30, 30, 30, 30, 35, 1...</td>\n",
       "      <td>[141, 141, 141, 141, 141, 141, 141, 141, 141, ...</td>\n",
       "      <td>[90, 95, 95, 95, 95, 95, 95, 95, 95, 95, 95, 9...</td>\n",
       "      <td>[0.0, 0.0, 1.0, 0.0, 0.0]</td>\n",
       "    </tr>\n",
       "    <tr>\n",
       "      <th>1</th>\n",
       "      <td>[142, 142, 142, 142, 142, 142, 142, 142, 142, ...</td>\n",
       "      <td>[30, 30, 30, 30, 30, 30, 30, 30, 30, 35, 15, 1...</td>\n",
       "      <td>[141, 141, 141, 141, 141, 141, 141, 141, 141, ...</td>\n",
       "      <td>[95, 95, 95, 95, 95, 95, 95, 95, 95, 95, 95, 9...</td>\n",
       "      <td>[0.0, 0.0, 1.0, 0.0, 0.0]</td>\n",
       "    </tr>\n",
       "    <tr>\n",
       "      <th>2</th>\n",
       "      <td>[142, 142, 142, 142, 142, 142, 142, 142, 142, ...</td>\n",
       "      <td>[30, 30, 30, 30, 30, 30, 30, 30, 35, 15, 15, 1...</td>\n",
       "      <td>[141, 141, 141, 141, 141, 141, 141, 141, 141, ...</td>\n",
       "      <td>[95, 95, 95, 95, 95, 95, 95, 95, 95, 95, 95, 9...</td>\n",
       "      <td>[0.0, 0.0, 1.0, 0.0, 0.0]</td>\n",
       "    </tr>\n",
       "  </tbody>\n",
       "</table>\n",
       "</div>"
      ],
      "text/plain": [
       "                                           ask_price  \\\n",
       "0  [142, 142, 142, 142, 142, 142, 142, 142, 142, ...   \n",
       "1  [142, 142, 142, 142, 142, 142, 142, 142, 142, ...   \n",
       "2  [142, 142, 142, 142, 142, 142, 142, 142, 142, ...   \n",
       "\n",
       "                                            ask_size  \\\n",
       "0  [30, 30, 30, 30, 30, 30, 30, 30, 30, 30, 35, 1...   \n",
       "1  [30, 30, 30, 30, 30, 30, 30, 30, 30, 35, 15, 1...   \n",
       "2  [30, 30, 30, 30, 30, 30, 30, 30, 35, 15, 15, 1...   \n",
       "\n",
       "                                           bid_price  \\\n",
       "0  [141, 141, 141, 141, 141, 141, 141, 141, 141, ...   \n",
       "1  [141, 141, 141, 141, 141, 141, 141, 141, 141, ...   \n",
       "2  [141, 141, 141, 141, 141, 141, 141, 141, 141, ...   \n",
       "\n",
       "                                            bid_size  \\\n",
       "0  [90, 95, 95, 95, 95, 95, 95, 95, 95, 95, 95, 9...   \n",
       "1  [95, 95, 95, 95, 95, 95, 95, 95, 95, 95, 95, 9...   \n",
       "2  [95, 95, 95, 95, 95, 95, 95, 95, 95, 95, 95, 9...   \n",
       "\n",
       "                      target  \n",
       "0  [0.0, 0.0, 1.0, 0.0, 0.0]  \n",
       "1  [0.0, 0.0, 1.0, 0.0, 0.0]  \n",
       "2  [0.0, 0.0, 1.0, 0.0, 0.0]  "
      ]
     },
     "metadata": {},
     "output_type": "display_data"
    }
   ],
   "source": [
    "## Deal with class weights\n",
    "# Function to compute class weights\n",
    "def comp_cls_wts(y, pwr = 0.5):\n",
    "    '''\n",
    "    Used to compute class weights\n",
    "    '''\n",
    "    dic = {}\n",
    "    for x in set(y):\n",
    "        dic[x] = len(y)**pwr/list(y).count(x)**pwr\n",
    "    return dic\n",
    "cls_wts = comp_cls_wts(raw_df.target.tolist())\n",
    "print cls_wts\n",
    "y = np_utils.to_categorical(raw_df.target.values, num_classes=n_cls)\n",
    "raw_df.target = list(y)\n",
    "display(raw_df[:3])"
   ]
  },
  {
   "cell_type": "code",
   "execution_count": 247,
   "metadata": {},
   "outputs": [
    {
     "name": "stdout",
     "output_type": "stream",
     "text": [
      "(126937, 5) (54403, 5)\n",
      "[ 0.  0.  1.  0.  0.]\n"
     ]
    }
   ],
   "source": [
    "train, valid = train_test_split(raw_df, random_state=123, train_size=0.7)\n",
    "print train.shape, valid.shape\n",
    "print raw_df.target.as_matrix()[0]"
   ]
  },
  {
   "cell_type": "code",
   "execution_count": 248,
   "metadata": {
    "collapsed": true
   },
   "outputs": [],
   "source": [
    "## Input layers\n",
    "ap = Input(shape=[LOOK_BACK], name=\"ask_price\")\n",
    "az = Input(shape=[LOOK_BACK], name=\"ask_size\")\n",
    "bp = Input(shape=[LOOK_BACK], name=\"bid_price\")\n",
    "bz = Input(shape=[LOOK_BACK], name=\"bid_size\")"
   ]
  },
  {
   "cell_type": "code",
   "execution_count": 249,
   "metadata": {
    "collapsed": true
   },
   "outputs": [],
   "source": [
    "## Embedding layers\n",
    "emb_ap = Embedding(MAX_PRICE, 64)(ap)\n",
    "emb_az = Embedding(MAX_PRICE, 64)(az)\n",
    "emb_bp = Embedding(MAX_PRICE, 64)(bp)\n",
    "emb_bz = Embedding(MAX_PRICE, 64)(bz)"
   ]
  },
  {
   "cell_type": "code",
   "execution_count": 250,
   "metadata": {},
   "outputs": [],
   "source": [
    "rnn_ap = GRU(16) (emb_ap)\n",
    "rnn_az = GRU(16) (emb_ap)\n",
    "rnn_bp = GRU(16) (emb_bp)\n",
    "rnn_bz = GRU(16) (emb_bz)"
   ]
  },
  {
   "cell_type": "code",
   "execution_count": 251,
   "metadata": {
    "collapsed": true
   },
   "outputs": [],
   "source": [
    "prc_layer = concatenate([\n",
    "    rnn_ap,\n",
    "    rnn_bp\n",
    "])\n",
    "prc_layer = Dropout(0.5) (Dense(32) (prc_layer))\n",
    "\n",
    "size_layer = concatenate([\n",
    "    rnn_az,\n",
    "    rnn_bz\n",
    "])\n",
    "size_layer = Dropout(0.5) (Dense(32) (size_layer))"
   ]
  },
  {
   "cell_type": "code",
   "execution_count": 252,
   "metadata": {
    "collapsed": true
   },
   "outputs": [],
   "source": [
    "main_layer = concatenate([\n",
    "    prc_layer,\n",
    "    size_layer\n",
    "])\n",
    "main_layer = Dropout(0.5) (Dense(32) (main_layer))\n",
    "\n",
    "#output\n",
    "output = Dense(n_cls, activation=\"softmax\") (main_layer)"
   ]
  },
  {
   "cell_type": "code",
   "execution_count": 253,
   "metadata": {},
   "outputs": [
    {
     "name": "stdout",
     "output_type": "stream",
     "text": [
      "____________________________________________________________________________________________________\n",
      "Layer (type)                     Output Shape          Param #     Connected to                     \n",
      "====================================================================================================\n",
      "ask_price (InputLayer)           (None, 60)            0                                            \n",
      "____________________________________________________________________________________________________\n",
      "bid_price (InputLayer)           (None, 60)            0                                            \n",
      "____________________________________________________________________________________________________\n",
      "bid_size (InputLayer)            (None, 60)            0                                            \n",
      "____________________________________________________________________________________________________\n",
      "embedding_25 (Embedding)         (None, 60, 64)        9792                                         \n",
      "____________________________________________________________________________________________________\n",
      "embedding_27 (Embedding)         (None, 60, 64)        9792                                         \n",
      "____________________________________________________________________________________________________\n",
      "embedding_28 (Embedding)         (None, 60, 64)        9792                                         \n",
      "____________________________________________________________________________________________________\n",
      "gru_24 (GRU)                     (None, 16)            3888                                         \n",
      "____________________________________________________________________________________________________\n",
      "gru_26 (GRU)                     (None, 16)            3888                                         \n",
      "____________________________________________________________________________________________________\n",
      "gru_25 (GRU)                     (None, 16)            3888                                         \n",
      "____________________________________________________________________________________________________\n",
      "gru_27 (GRU)                     (None, 16)            3888                                         \n",
      "____________________________________________________________________________________________________\n",
      "concatenate_16 (Concatenate)     (None, 32)            0                                            \n",
      "____________________________________________________________________________________________________\n",
      "concatenate_17 (Concatenate)     (None, 32)            0                                            \n",
      "____________________________________________________________________________________________________\n",
      "dense_21 (Dense)                 (None, 32)            1056                                         \n",
      "____________________________________________________________________________________________________\n",
      "dense_22 (Dense)                 (None, 32)            1056                                         \n",
      "____________________________________________________________________________________________________\n",
      "dropout_16 (Dropout)             (None, 32)            0                                            \n",
      "____________________________________________________________________________________________________\n",
      "dropout_17 (Dropout)             (None, 32)            0                                            \n",
      "____________________________________________________________________________________________________\n",
      "concatenate_18 (Concatenate)     (None, 64)            0                                            \n",
      "____________________________________________________________________________________________________\n",
      "dense_23 (Dense)                 (None, 32)            2080                                         \n",
      "____________________________________________________________________________________________________\n",
      "dropout_18 (Dropout)             (None, 32)            0                                            \n",
      "____________________________________________________________________________________________________\n",
      "dense_24 (Dense)                 (None, 5)             165                                          \n",
      "====================================================================================================\n",
      "Total params: 49,285.0\n",
      "Trainable params: 49,285.0\n",
      "Non-trainable params: 0.0\n",
      "____________________________________________________________________________________________________\n"
     ]
    }
   ],
   "source": [
    "model = Model([ap, az, bp, bz], output)\n",
    "optimizer = SGD()\n",
    "metrics = ['accuracy']\n",
    "model.compile(optimizer = optimizer, loss = 'categorical_crossentropy', metrics = metrics)\n",
    "model.summary()"
   ]
  },
  {
   "cell_type": "code",
   "execution_count": 257,
   "metadata": {},
   "outputs": [
    {
     "name": "stdout",
     "output_type": "stream",
     "text": [
      "Train on 126937 samples, validate on 54403 samples\n",
      "Epoch 1/8\n",
      "126937/126937 [==============================] - 399s - loss: 0.2460 - acc: 0.9731 - val_loss: 0.1416 - val_acc: 0.9769\n",
      "Epoch 2/8\n",
      "126937/126937 [==============================] - 296s - loss: 0.1640 - acc: 0.9771 - val_loss: 0.1360 - val_acc: 0.9769\n",
      "Epoch 3/8\n",
      "126937/126937 [==============================] - 259s - loss: 0.1579 - acc: 0.9771 - val_loss: 0.1333 - val_acc: 0.9769\n",
      "Epoch 4/8\n",
      "126937/126937 [==============================] - 286s - loss: 0.1530 - acc: 0.9771 - val_loss: 0.1317 - val_acc: 0.9769\n",
      "Epoch 5/8\n",
      "126937/126937 [==============================] - 341s - loss: 0.1501 - acc: 0.9771 - val_loss: 0.1311 - val_acc: 0.9769\n",
      "Epoch 6/8\n",
      "126937/126937 [==============================] - 247s - loss: 0.1472 - acc: 0.9771 - val_loss: 0.1303 - val_acc: 0.9769\n",
      "Epoch 7/8\n",
      "126937/126937 [==============================] - 283s - loss: 0.1452 - acc: 0.9771 - val_loss: 0.1297 - val_acc: 0.9769\n",
      "Epoch 8/8\n",
      "126937/126937 [==============================] - 379s - loss: 0.1440 - acc: 0.9771 - val_loss: 0.1289 - val_acc: 0.9769\n"
     ]
    },
    {
     "data": {
      "text/plain": [
       "<keras.callbacks.History at 0x7fa6c4a10210>"
      ]
     },
     "execution_count": 257,
     "metadata": {},
     "output_type": "execute_result"
    }
   ],
   "source": [
    "#FITTING THE MODEL\n",
    "BATCH_SIZE  =  256\n",
    "epochs = 8\n",
    "tr = {\n",
    "    'ask_price': np.array(train.ask_price.tolist()),\n",
    "    'ask_size': np.array(train.ask_size.tolist()),\n",
    "    'bid_price': np.array(train.bid_price.tolist()),\n",
    "    'bid_size': np.array(train.bid_size.tolist())\n",
    "}\n",
    "vd = {\n",
    "    'ask_price': np.array(valid.ask_price.tolist()),\n",
    "    'ask_size': np.array(valid.ask_size.tolist()),\n",
    "    'bid_price': np.array(valid.bid_price.tolist()),\n",
    "    'bid_size': np.array(valid.bid_size.tolist())\n",
    "}\n",
    "tt = np.array(train.target.tolist())\n",
    "vt = np.array(valid.target.tolist())\n",
    "model.fit(tr, tt, epochs=epochs, \n",
    "          batch_size=BATCH_SIZE, validation_data=(vd, vt), verbose=1)"
   ]
  },
  {
   "cell_type": "code",
   "execution_count": null,
   "metadata": {
    "collapsed": true
   },
   "outputs": [],
   "source": []
  }
 ],
 "metadata": {
  "kernelspec": {
   "display_name": "Python 2",
   "language": "python",
   "name": "python2"
  },
  "language_info": {
   "codemirror_mode": {
    "name": "ipython",
    "version": 2
   },
   "file_extension": ".py",
   "mimetype": "text/x-python",
   "name": "python",
   "nbconvert_exporter": "python",
   "pygments_lexer": "ipython2",
   "version": "2.7.13"
  }
 },
 "nbformat": 4,
 "nbformat_minor": 2
}
